{
  "nbformat": 4,
  "nbformat_minor": 0,
  "metadata": {
    "kernelspec": {
      "display_name": "Python 3",
      "language": "python",
      "name": "python3"
    },
    "language_info": {
      "codemirror_mode": {
        "name": "ipython",
        "version": 3
      },
      "file_extension": ".py",
      "mimetype": "text/x-python",
      "name": "python",
      "nbconvert_exporter": "python",
      "pygments_lexer": "ipython3",
      "version": "3.7.3"
    },
    "colab": {
      "name": "pt5 F mar20-3AM REGRSS2-unit2 spr1 mod2- 212 assmnt.ipynb",
      "provenance": [],
      "collapsed_sections": [],
      "include_colab_link": true
    }
  },
  "cells": [
    {
      "cell_type": "markdown",
      "metadata": {
        "id": "view-in-github",
        "colab_type": "text"
      },
      "source": [
        "<a href=\"https://colab.research.google.com/github/LambdaTheda/DS-Unit-1-Sprint-3-Linear-Algebra/blob/master/pt5_F_mar20_3AM_REGRSS2_unit2_spr1_mod2_212_assmnt.ipynb\" target=\"_parent\"><img src=\"https://colab.research.google.com/assets/colab-badge.svg\" alt=\"Open In Colab\"/></a>"
      ]
    },
    {
      "cell_type": "markdown",
      "metadata": {
        "id": "mKud5_tfUSQT",
        "colab_type": "text"
      },
      "source": [
        "Lambda School Data Science\n",
        "\n",
        "*Unit 2, Sprint 1, Module 2*\n",
        "\n",
        "---"
      ]
    },
    {
      "cell_type": "markdown",
      "metadata": {
        "colab_type": "text",
        "id": "7IXUfiQ2UKj6"
      },
      "source": [
        "# Regression 2\n",
        "\n",
        "## Assignment\n",
        "\n",
        "You'll continue to **predict how much it costs to rent an apartment in NYC,** using the dataset from renthop.com.\n",
        "\n",
        "- [ ] Do train/test split. Use data from April & May 2016 to train. Use data from June 2016 to test.\n",
        "- [ ] Engineer at least two new features. (See below for explanation & ideas.)\n",
        "- [ ] Fit a linear regression model with at least two features.\n",
        "- [ ] Get the model's coefficients and intercept.\n",
        "- [ ] Get regression metrics RMSE, MAE, and $R^2$, for both the train and test data.\n",
        "- [ ] What's the best test MAE you can get? Share your score and features used with your cohort on Slack!\n",
        "- [ ] As always, commit your notebook to your fork of the GitHub repo.\n",
        "\n",
        "\n",
        "#### [Feature Engineering](https://en.wikipedia.org/wiki/Feature_engineering)\n",
        "\n",
        "> \"Some machine learning projects succeed and some fail. What makes the difference? Easily the most important factor is the features used.\" — Pedro Domingos, [\"A Few Useful Things to Know about Machine Learning\"](https://homes.cs.washington.edu/~pedrod/papers/cacm12.pdf)\n",
        "\n",
        "> \"Coming up with features is difficult, time-consuming, requires expert knowledge. 'Applied machine learning' is basically feature engineering.\" — Andrew Ng, [Machine Learning and AI via Brain simulations](https://forum.stanford.edu/events/2011/2011slides/plenary/2011plenaryNg.pdf) \n",
        "\n",
        "> Feature engineering is the process of using domain knowledge of the data to create features that make machine learning algorithms work. \n",
        "\n",
        "#### Feature Ideas\n",
        "- Does the apartment have a description?\n",
        "- How long is the description?\n",
        "- How many total perks does each apartment have?\n",
        "- Are cats _or_ dogs allowed?\n",
        "- Are cats _and_ dogs allowed?\n",
        "- Total number of rooms (beds + baths)\n",
        "- Ratio of beds to baths\n",
        "- What's the neighborhood, based on address or latitude & longitude?\n",
        "\n",
        "## Stretch Goals\n",
        "- [ ] If you want more math, skim [_An Introduction to Statistical Learning_](http://faculty.marshall.usc.edu/gareth-james/ISL/ISLR%20Seventh%20Printing.pdf),  Chapter 3.1, Simple Linear Regression, & Chapter 3.2, Multiple Linear Regression\n",
        "- [ ] If you want more introduction, watch [Brandon Foltz, Statistics 101: Simple Linear Regression](https://www.youtube.com/watch?v=ZkjP5RJLQF4)\n",
        "(20 minutes, over 1 million views)\n",
        "- [ ] Add your own stretch goal(s) !"
      ]
    },
    {
      "cell_type": "code",
      "metadata": {
        "colab_type": "code",
        "id": "o9eSnDYhUGD7",
        "colab": {}
      },
      "source": [
        "%%capture\n",
        "import sys\n",
        "\n",
        "# If you're on Colab:\n",
        "if 'google.colab' in sys.modules:\n",
        "    DATA_PATH = 'https://raw.githubusercontent.com/LambdaSchool/DS-Unit-2-Applied-Modeling/master/data/'\n",
        "    !pip install category_encoders==2.*\n",
        "\n",
        "# If you're working locally:\n",
        "else:\n",
        "    DATA_PATH = '../data/'\n",
        "    \n",
        "# Ignore this Numpy warning when using Plotly Express:\n",
        "# FutureWarning: Method .ptp is deprecated and will be removed in a future version. Use numpy.ptp instead.\n",
        "import warnings\n",
        "warnings.filterwarnings(action='ignore', category=FutureWarning, module='numpy')"
      ],
      "execution_count": 0,
      "outputs": []
    },
    {
      "cell_type": "code",
      "metadata": {
        "colab_type": "code",
        "id": "cvrw-T3bZOuW",
        "colab": {}
      },
      "source": [
        "import numpy as np\n",
        "import pandas as pd\n",
        "\n",
        "# Read New York City apartment rental listing data\n",
        "pd.set_option('display.max_rows', None)\n",
        "\n",
        "df = pd.read_csv(DATA_PATH+'apartments/renthop-nyc.csv')\n",
        "assert df.shape == (49352, 34)\n",
        "\n",
        "# Remove the most extreme 1% prices,\n",
        "# the most extreme .1% latitudes, &\n",
        "# the most extreme .1% longitudes\n",
        "df = df[(df['price'] >= np.percentile(df['price'], 0.5)) & \n",
        "        (df['price'] <= np.percentile(df['price'], 99.5)) & \n",
        "        (df['latitude'] >= np.percentile(df['latitude'], 0.05)) & \n",
        "        (df['latitude'] < np.percentile(df['latitude'], 99.95)) &\n",
        "        (df['longitude'] >= np.percentile(df['longitude'], 0.05)) & \n",
        "        (df['longitude'] <= np.percentile(df['longitude'], 99.95))]"
      ],
      "execution_count": 0,
      "outputs": []
    },
    {
      "cell_type": "code",
      "metadata": {
        "id": "eCmFCOqHo4mo",
        "colab_type": "code",
        "colab": {}
      },
      "source": [
        "df.head(200)"
      ],
      "execution_count": 0,
      "outputs": []
    },
    {
      "cell_type": "code",
      "metadata": {
        "id": "KLuF3n1XBBx2",
        "colab_type": "code",
        "colab": {}
      },
      "source": [
        "df"
      ],
      "execution_count": 0,
      "outputs": []
    },
    {
      "cell_type": "code",
      "metadata": {
        "id": "5UPNE8MTpzeh",
        "colab_type": "code",
        "colab": {}
      },
      "source": [
        "df.shape"
      ],
      "execution_count": 0,
      "outputs": []
    },
    {
      "cell_type": "code",
      "metadata": {
        "id": "Bj8HrtK82qpg",
        "colab_type": "code",
        "colab": {}
      },
      "source": [
        "# Train/test split. Use data from April & May 2016 to train. \n",
        "\n",
        "df['created'] = pd.to_datetime(df['created'])\n",
        "train = df[(df['created'].dt.year == 2016) & (df['created'].dt.month.isin([4, 5]))]\n",
        "train.shape\n"
      ],
      "execution_count": 0,
      "outputs": []
    },
    {
      "cell_type": "code",
      "metadata": {
        "id": "q_LriD5a--KN",
        "colab_type": "code",
        "colab": {}
      },
      "source": [
        "# explore column to use for train/test split\n",
        "df['created'].value_counts(48817) # returns counts as < 1 (bc of dt classes? or https://www.w3resource.com/pandas/series/series-value_counts.php- SERIES notdf fcngit)\n"
      ],
      "execution_count": 0,
      "outputs": []
    },
    {
      "cell_type": "code",
      "metadata": {
        "id": "ACVZjBIPXl-D",
        "colab_type": "code",
        "colab": {}
      },
      "source": [
        "df['created'].value_counts(48817).head(300)"
      ],
      "execution_count": 0,
      "outputs": []
    },
    {
      "cell_type": "code",
      "metadata": {
        "id": "WR9B3knVV3SA",
        "colab_type": "code",
        "colab": {}
      },
      "source": [
        "# explore column to use for train/test split\n",
        "df['created'].describe()"
      ],
      "execution_count": 0,
      "outputs": []
    },
    {
      "cell_type": "code",
      "metadata": {
        "id": "LiV7lQ9WWl4V",
        "colab_type": "code",
        "colab": {}
      },
      "source": [
        "df['created'].shape"
      ],
      "execution_count": 0,
      "outputs": []
    },
    {
      "cell_type": "markdown",
      "metadata": {
        "id": "nEeh_JKcX82Y",
        "colab_type": "text"
      },
      "source": [
        "#  train/test split"
      ]
    },
    {
      "cell_type": "code",
      "metadata": {
        "id": "mtuNNTyxvWeL",
        "colab_type": "code",
        "colab": {}
      },
      "source": [
        "#ATTEMPT 3: Parsing out only YEAR from df['created']-\n",
        "df['created'] = pd.to_datetime(df['created']) #dot notation: df['created'] = pd.to_datetime(df.created); from https://www.youtube.com/watch?v=yCgJGsg0Xa4\n",
        "df['year'] = df['created'].dt.year\n",
        "df['year']"
      ],
      "execution_count": 0,
      "outputs": []
    },
    {
      "cell_type": "code",
      "metadata": {
        "id": "IoxtNV8769cB",
        "colab_type": "code",
        "colab": {}
      },
      "source": [
        "#temp df for making train set from df with df['created'].dt.year == 2016\n",
        "df_train_yr = df[(df['year'] == 2016)]\n",
        "df_train_yr.head(200)\n"
      ],
      "execution_count": 0,
      "outputs": []
    },
    {
      "cell_type": "code",
      "metadata": {
        "id": "oBdIYuvIYQMH",
        "colab_type": "code",
        "colab": {}
      },
      "source": [
        "df_train_yr.nunique"
      ],
      "execution_count": 0,
      "outputs": []
    },
    {
      "cell_type": "code",
      "metadata": {
        "id": "4K2-2i5-bn-G",
        "colab_type": "code",
        "colab": {}
      },
      "source": [
        "#df_train_yr.value_counts() #AttributeError: 'DataFrame' object has no attribute 'value_counts'; BC NO CLASSES ?#\n"
      ],
      "execution_count": 0,
      "outputs": []
    },
    {
      "cell_type": "code",
      "metadata": {
        "id": "DVahknVGCdNA",
        "colab_type": "code",
        "colab": {}
      },
      "source": [
        "#filter df_train_yr for April and May rows- WORKS\n",
        "df_train_yr_and_months = df_train_yr[df_train_yr['created'].dt.month.isin([4, 5])]  #df[(df['year'] == 2016)]\n",
        "df_train_yr_and_months.head(200)          "
      ],
      "execution_count": 0,
      "outputs": []
    },
    {
      "cell_type": "code",
      "metadata": {
        "id": "MUabj3stD7hL",
        "colab_type": "code",
        "colab": {}
      },
      "source": [
        "df_train_yr_and_months.sample(300)"
      ],
      "execution_count": 0,
      "outputs": []
    },
    {
      "cell_type": "code",
      "metadata": {
        "id": "F81irlJ-EIq4",
        "colab_type": "code",
        "colab": {}
      },
      "source": [
        "df_train = df_train_yr_and_months\n",
        "df_train.head(300)"
      ],
      "execution_count": 0,
      "outputs": []
    },
    {
      "cell_type": "code",
      "metadata": {
        "id": "-PpQC3RBG99p",
        "colab_type": "code",
        "colab": {}
      },
      "source": [
        "df_train.shape"
      ],
      "execution_count": 0,
      "outputs": []
    },
    {
      "cell_type": "markdown",
      "metadata": {
        "id": "FvoJ7PgYfg7M",
        "colab_type": "text"
      },
      "source": [
        "# FILTER df_train TO MAKE TEST SET USING JUNE 2016 ROWS"
      ]
    },
    {
      "cell_type": "code",
      "metadata": {
        "id": "LSNchg4sUNQ0",
        "colab_type": "code",
        "colab": {}
      },
      "source": [
        "# ATTEMPT 1: Use data from June 2016 to test- no rows! ASK WHY! bc df_train has only APR & MAY!\n",
        "'''\n",
        "df_test = df_train[(df_train['created'].dt.month == 6)]\n",
        "df_test.head()\n",
        "'''"
      ],
      "execution_count": 0,
      "outputs": []
    },
    {
      "cell_type": "code",
      "metadata": {
        "id": "DoSxJRaMQh2h",
        "colab_type": "code",
        "colab": {}
      },
      "source": [
        "df['created'] = pd.to_datetime(df['created'])\n",
        "df['created'].dtype"
      ],
      "execution_count": 0,
      "outputs": []
    },
    {
      "cell_type": "code",
      "metadata": {
        "id": "9EHq_hurL-u0",
        "colab_type": "code",
        "colab": {}
      },
      "source": [
        "# ATTEMPT 2: AttributeError: 'str' object has no attribute 'dt'\n",
        "'''\n",
        "df['created'] = pd.to_datetime(df['created'])\n",
        "\n",
        "df['month'] = df['created'].dt.month\n",
        "\n",
        "df_test = df_train_yr[df_train_yr['created'.dt.month] == 6] \n",
        "df_test\n",
        "'''\n",
        " "
      ],
      "execution_count": 0,
      "outputs": []
    },
    {
      "cell_type": "code",
      "metadata": {
        "id": "7Y4ix_ceR1xw",
        "colab_type": "code",
        "colab": {}
      },
      "source": [
        "# ATTEMPT 3: WORKS\n",
        "\n",
        "df['created'] = pd.to_datetime(df['created'])\n",
        "#df['created'].dtype            # RETURNS dtype('<M8[ns]')\n",
        "df_test = df_train_yr[df_train_yr['created'].dt.month.isin([6])]\n",
        "df_test.head(300)"
      ],
      "execution_count": 0,
      "outputs": []
    },
    {
      "cell_type": "code",
      "metadata": {
        "id": "86GrBSCYUtqL",
        "colab_type": "code",
        "colab": {}
      },
      "source": [
        "df_test.shape"
      ],
      "execution_count": 0,
      "outputs": []
    },
    {
      "cell_type": "code",
      "metadata": {
        "id": "Yx-udb7uVXZU",
        "colab_type": "code",
        "colab": {}
      },
      "source": [
        "df_test['created'].value_counts()"
      ],
      "execution_count": 0,
      "outputs": []
    },
    {
      "cell_type": "markdown",
      "metadata": {
        "id": "i65dLUOXRkvW",
        "colab_type": "text"
      },
      "source": [
        "# \"my own\" S t     r            e           T                c  h                                          GOAL!  3d plot of 3 features\n"
      ]
    },
    {
      "cell_type": "code",
      "metadata": {
        "id": "x3X7_hlNRvb1",
        "colab_type": "code",
        "colab": {}
      },
      "source": [
        "import plotly.express as px\n",
        "px.scatter_3d(\n",
        "    df,\n",
        "    x = 'bedrooms',\n",
        "    y = 'price',\n",
        "    z = 'bathrooms', \n",
        "    title = 'NYC Apartment Rental Prices, 2016'\n",
        ")"
      ],
      "execution_count": 0,
      "outputs": []
    },
    {
      "cell_type": "markdown",
      "metadata": {
        "id": "2xz9wu-ugjtd",
        "colab_type": "text"
      },
      "source": [
        "# Engineer at least two new features. "
      ]
    },
    {
      "cell_type": "code",
      "metadata": {
        "id": "DAjZvTgEjGs0",
        "colab_type": "code",
        "colab": {}
      },
      "source": [
        "# 1) Does the apartment have a description? ATTEMPTS/Exploration\n",
        "\n",
        "# Using for loop\n",
        "# for descrp in range (len(df['description'])):  \n",
        "\n",
        "# Chris suggests apply():\n",
        "\n",
        " # use regex to find '     ' string that seems to represent no descriptions\n",
        "'''\n",
        "import re \n",
        "no = re.compile('        ')\n",
        "no    # RETURNS: re.compile(r'        ', re.UNICODE)\n",
        "'''"
      ],
      "execution_count": 0,
      "outputs": []
    },
    {
      "cell_type": "code",
      "metadata": {
        "id": "PSlCF96YLH3G",
        "colab_type": "code",
        "colab": {}
      },
      "source": [
        "#df.loc[1, 'description'] # RETURNS: '        '"
      ],
      "execution_count": 0,
      "outputs": []
    },
    {
      "cell_type": "code",
      "metadata": {
        "id": "nlUtVnNuN16P",
        "colab_type": "code",
        "colab": {}
      },
      "source": [
        "#df['description'].dtype # RETURNS: dtype('O'), A STRING"
      ],
      "execution_count": 0,
      "outputs": []
    },
    {
      "cell_type": "markdown",
      "metadata": {
        "id": "VoMo70MVEi-B",
        "colab_type": "text"
      },
      "source": [
        "# 1) FEATURE ENGINEERED 'has_description' column:"
      ]
    },
    {
      "cell_type": "code",
      "metadata": {
        "id": "3YPONoMO2C2l",
        "colab_type": "code",
        "colab": {}
      },
      "source": [
        "# 1) FEATURE ENGINEERED 'has_description' column: Does the apartment have a description?\n",
        "# set the new column to the dataframe column with all values EXCEPT '        '\n",
        "df['has_description'] = ~df['description'].isin(['        '])\n",
        "\n",
        "df['has_description'] = df['has_description'].map({True: 'Yes', False: 'No'})\n",
        "\n",
        "df['has_description']"
      ],
      "execution_count": 0,
      "outputs": []
    },
    {
      "cell_type": "code",
      "metadata": {
        "id": "G-HGHdxC8SVL",
        "colab_type": "code",
        "colab": {}
      },
      "source": [
        "df.sample(200)"
      ],
      "execution_count": 0,
      "outputs": []
    },
    {
      "cell_type": "code",
      "metadata": {
        "id": "OcqJW8KcVYMU",
        "colab_type": "code",
        "colab": {}
      },
      "source": [
        "# use findall() \n",
        "'''\n",
        "no.findall('        ')\n",
        "print(df['description'].no.findall('        ')) # RETURNS: AttributeError: 'Series' object has no attribute 'no'\n",
        "'''"
      ],
      "execution_count": 0,
      "outputs": []
    },
    {
      "cell_type": "markdown",
      "metadata": {
        "id": "Fnhqq6SsEfoY",
        "colab_type": "text"
      },
      "source": [
        "# 2) FEATURE ENGINEERED 'total_rooms' column:"
      ]
    },
    {
      "cell_type": "code",
      "metadata": {
        "id": "1xQu-UpjkKJj",
        "colab_type": "code",
        "colab": {}
      },
      "source": [
        "# 2) FEATURE ENGINEERED 'total_rooms' column: Total number of rooms (beds + baths)\n",
        "df['total_rooms'] = df['bedrooms'] + df['bathrooms']\n",
        "df.head()"
      ],
      "execution_count": 0,
      "outputs": []
    },
    {
      "cell_type": "code",
      "metadata": {
        "id": "QcdfpaR9E7mZ",
        "colab_type": "code",
        "outputId": "660c3bde-a4d5-4e0c-faa5-87e232b1a4d6",
        "colab": {
          "base_uri": "https://localhost:8080/",
          "height": 207
        }
      },
      "source": [
        "#Check the columns\n",
        "df.columns"
      ],
      "execution_count": 0,
      "outputs": [
        {
          "output_type": "execute_result",
          "data": {
            "text/plain": [
              "Index(['bathrooms', 'bedrooms', 'created', 'description', 'display_address',\n",
              "       'latitude', 'longitude', 'price', 'street_address', 'interest_level',\n",
              "       'elevator', 'cats_allowed', 'hardwood_floors', 'dogs_allowed',\n",
              "       'doorman', 'dishwasher', 'no_fee', 'laundry_in_building',\n",
              "       'fitness_center', 'pre-war', 'laundry_in_unit', 'roof_deck',\n",
              "       'outdoor_space', 'dining_room', 'high_speed_internet', 'balcony',\n",
              "       'swimming_pool', 'new_construction', 'terrace', 'exclusive', 'loft',\n",
              "       'garden_patio', 'wheelchair_access', 'common_outdoor_space', 'year',\n",
              "       'total_rooms', 'has_description'],\n",
              "      dtype='object')"
            ]
          },
          "metadata": {
            "tags": []
          },
          "execution_count": 44
        }
      ]
    },
    {
      "cell_type": "markdown",
      "metadata": {
        "id": "tDkDaqcJEr-N",
        "colab_type": "text"
      },
      "source": [
        "# Fit a linear regression model with at least two features."
      ]
    },
    {
      "cell_type": "code",
      "metadata": {
        "id": "7j2ZeEiXEx3c",
        "colab_type": "code",
        "colab": {}
      },
      "source": [
        "# 5 Step Process:\n",
        "# 1) Import appropriate estimator class form sklearn\n",
        "\n",
        "from sklearn.lenear_model import LinearRegression"
      ],
      "execution_count": 0,
      "outputs": []
    },
    {
      "cell_type": "code",
      "metadata": {
        "id": "nv2-WMogFWnf",
        "colab_type": "code",
        "colab": {}
      },
      "source": [
        "# 2) Instantiate this class\n",
        "model = LinearRegression()"
      ],
      "execution_count": 0,
      "outputs": []
    },
    {
      "cell_type": "code",
      "metadata": {
        "id": "beBkAIdeFby5",
        "colab_type": "code",
        "colab": {}
      },
      "source": [
        "#3) Arrange X FEATURES matrices\n",
        "X_train = df['']"
      ],
      "execution_count": 0,
      "outputs": []
    }
  ]
}