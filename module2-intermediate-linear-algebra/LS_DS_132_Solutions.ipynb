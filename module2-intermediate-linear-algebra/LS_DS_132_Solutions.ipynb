{
 "cells": [
  {
   "cell_type": "markdown",
   "metadata": {
    "colab_type": "text",
    "id": "GSNiYn8lr6nN"
   },
   "source": [
    "## 1. A review of statistical terms"
   ]
  },
  {
   "cell_type": "markdown",
   "metadata": {
    "colab_type": "text",
    "id": "3d4izUhQvh2_"
   },
   "source": [
    "### 1.1 Variance & Standard Deviation\n",
    "Suppose we have a list of widgets. What is the mean, variance, and standard deviation of this list?"
   ]
  },
  {
   "cell_type": "code",
   "execution_count": 1,
   "metadata": {
    "colab": {},
    "colab_type": "code",
    "id": "vxeP-KycnDBq"
   },
   "outputs": [],
   "source": [
    "# here's the list.\n",
    "widgets=[451, 330, 570, 390, 410]"
   ]
  },
  {
   "cell_type": "code",
   "execution_count": 2,
   "metadata": {
    "colab": {},
    "colab_type": "code",
    "id": "IbY4cUN8nDBu"
   },
   "outputs": [],
   "source": [
    "# which libraries should we import here?\n",
    "import math\n",
    "import numpy as np\n",
    "import pandas as pd"
   ]
  },
  {
   "cell_type": "code",
   "execution_count": 3,
   "metadata": {
    "colab": {
     "base_uri": "https://localhost:8080/",
     "height": 35
    },
    "colab_type": "code",
    "id": "NU3vD0_ZnDBw",
    "outputId": "2e2eb82b-7a7c-4250-8cec-2a08d9b1106f"
   },
   "outputs": [
    {
     "name": "stdout",
     "output_type": "stream",
     "text": [
      "mean widgets:  430.2\n"
     ]
    }
   ],
   "source": [
    "# find the mean\n",
    "total = sum(widgets)\n",
    "mean_widgets = total/len(widgets)\n",
    "print(\"mean widgets: \", mean_widgets)"
   ]
  },
  {
   "cell_type": "markdown",
   "metadata": {
    "colab_type": "text",
    "id": "_quq24q1nDB0"
   },
   "source": [
    "#### Variance"
   ]
  },
  {
   "cell_type": "code",
   "execution_count": 4,
   "metadata": {
    "colab": {
     "base_uri": "https://localhost:8080/",
     "height": 35
    },
    "colab_type": "code",
    "id": "pcV0Q_11nDB1",
    "outputId": "1210a47a-758a-41e6-d501-5a68d87cec81"
   },
   "outputs": [
    {
     "data": {
      "text/plain": [
       "<function __main__.<lambda>(x)>"
      ]
     },
     "execution_count": 4,
     "metadata": {},
     "output_type": "execute_result"
    }
   ],
   "source": [
    "# first write a little function \n",
    "def subtract_mean(number):\n",
    "    return number-mean_widgets\n",
    "\n",
    "# Note: this can be converted to lambda for efficiency:\n",
    "lambda x: x-mean_widgets"
   ]
  },
  {
   "cell_type": "code",
   "execution_count": 5,
   "metadata": {
    "colab": {},
    "colab_type": "code",
    "id": "MMVU8gW2nDB4"
   },
   "outputs": [],
   "source": [
    "# use `map` to apply that function to our list \n",
    "distances = list(map(subtract_mean, widgets))"
   ]
  },
  {
   "cell_type": "code",
   "execution_count": 6,
   "metadata": {
    "colab": {},
    "colab_type": "code",
    "id": "wC7vL5FPnDB7"
   },
   "outputs": [],
   "source": [
    "# square and sum all of those distances\n",
    "squared_distances = list(map(lambda x: x**2, distances))"
   ]
  },
  {
   "cell_type": "code",
   "execution_count": 7,
   "metadata": {
    "colab": {},
    "colab_type": "code",
    "id": "NjKrf7Q1nDB-"
   },
   "outputs": [],
   "source": [
    "# how long is our list?\n",
    "list_length=len(squared_distances)-1 # for a sample taken from a population\n",
    "list_length=len(squared_distances) # for a whole population (no sample)"
   ]
  },
  {
   "cell_type": "code",
   "execution_count": 8,
   "metadata": {
    "colab": {
     "base_uri": "https://localhost:8080/",
     "height": 35
    },
    "colab_type": "code",
    "id": "4GWdN9HRnDCA",
    "outputId": "7bdd429e-6a09-43e1-8d7f-27aac900a08e"
   },
   "outputs": [
    {
     "name": "stdout",
     "output_type": "stream",
     "text": [
      "6408.16\n"
     ]
    }
   ],
   "source": [
    "# calculate variance\n",
    "variance_widgets = sum(squared_distances)/list_length\n",
    "print('{:.2f}'.format(variance_widgets,3))"
   ]
  },
  {
   "cell_type": "markdown",
   "metadata": {
    "colab_type": "text",
    "id": "B2vaLcQUnDCD"
   },
   "source": [
    "#### standard dev"
   ]
  },
  {
   "cell_type": "code",
   "execution_count": 9,
   "metadata": {
    "colab": {
     "base_uri": "https://localhost:8080/",
     "height": 52
    },
    "colab_type": "code",
    "id": "6ywCoGvKnDCD",
    "outputId": "23aefc45-5ef1-4179-d730-c708378e2dbb"
   },
   "outputs": [
    {
     "name": "stdout",
     "output_type": "stream",
     "text": [
      "80.05\n",
      "80.05\n"
     ]
    }
   ],
   "source": [
    "# calculate the standard deviation\n",
    "print('{:.2f}'.format(math.sqrt(variance_widgets)))\n",
    "print('{:.2f}'.format(np.sqrt(variance_widgets)))"
   ]
  },
  {
   "cell_type": "code",
   "execution_count": 10,
   "metadata": {
    "colab": {
     "base_uri": "https://localhost:8080/",
     "height": 69
    },
    "colab_type": "code",
    "id": "0JZJUdhvnDCF",
    "outputId": "db51e4f8-ddcb-4bef-8b6e-7e400220b4b2"
   },
   "outputs": [
    {
     "name": "stdout",
     "output_type": "stream",
     "text": [
      "430.2\n",
      "6408.16\n",
      "80.05\n"
     ]
    }
   ],
   "source": [
    "# check our work using numpy\n",
    "print(np.mean(widgets))\n",
    "print('{:.2f}'.format(np.var(widgets)))\n",
    "print('{:.2f}'.format(np.std(widgets)))"
   ]
  },
  {
   "cell_type": "code",
   "execution_count": 11,
   "metadata": {
    "colab": {
     "base_uri": "https://localhost:8080/",
     "height": 35
    },
    "colab_type": "code",
    "id": "w1iZfYvBtEA1",
    "outputId": "1dfdbeef-2565-4d65-e8fc-301ee1d33791"
   },
   "outputs": [
    {
     "name": "stdout",
     "output_type": "stream",
     "text": [
      "mean: 430.2\n"
     ]
    }
   ],
   "source": [
    "# check our work using pandas\n",
    "df = pd.DataFrame({\"widgets\": widgets})\n",
    "print('mean:', df['widgets'].mean())"
   ]
  },
  {
   "cell_type": "code",
   "execution_count": 12,
   "metadata": {
    "colab": {
     "base_uri": "https://localhost:8080/",
     "height": 52
    },
    "colab_type": "code",
    "id": "oSk5wK1znDCN",
    "outputId": "0551dd75-2050-4e26-fde8-121babd88352"
   },
   "outputs": [
    {
     "name": "stdout",
     "output_type": "stream",
     "text": [
      "var: 6408.16\n",
      "std: 80.05\n"
     ]
    }
   ],
   "source": [
    "# for a population\n",
    "print('var:', '{:.2f}'.format(df['widgets'].var(ddof=0)))\n",
    "print('std:', '{:.2f}'.format(df['widgets'].std(ddof=0)))"
   ]
  },
  {
   "cell_type": "code",
   "execution_count": 13,
   "metadata": {
    "colab": {
     "base_uri": "https://localhost:8080/",
     "height": 52
    },
    "colab_type": "code",
    "id": "nXbyrXDVnDCS",
    "outputId": "70e0810c-f671-4d98-bd24-7eec7232ab14"
   },
   "outputs": [
    {
     "name": "stdout",
     "output_type": "stream",
     "text": [
      "var: 8010.20\n",
      "std: 89.50\n"
     ]
    }
   ],
   "source": [
    "# for a sample\n",
    "print('var:', '{:.2f}'.format(df['widgets'].var(ddof=1)))\n",
    "print('std:', '{:.2f}'.format(df['widgets'].std(ddof=1)))"
   ]
  },
  {
   "cell_type": "markdown",
   "metadata": {
    "colab_type": "text",
    "id": "oh63KaOctEp_"
   },
   "source": [
    "### 1.2 Covariance\n",
    "Find the covariance between widgets and gadgets."
   ]
  },
  {
   "cell_type": "code",
   "execution_count": 14,
   "metadata": {
    "colab": {},
    "colab_type": "code",
    "id": "G7ZB0krot564"
   },
   "outputs": [],
   "source": [
    "# make a new list\n",
    "gadgets = [410, 505, 371, 220, 625]"
   ]
  },
  {
   "cell_type": "code",
   "execution_count": 15,
   "metadata": {
    "colab": {
     "base_uri": "https://localhost:8080/",
     "height": 35
    },
    "colab_type": "code",
    "id": "lX0-DLuDnDCY",
    "outputId": "004b4eb8-d6f2-451c-b22d-af850d117401"
   },
   "outputs": [
    {
     "name": "stdout",
     "output_type": "stream",
     "text": [
      "-2919.05\n"
     ]
    }
   ],
   "source": [
    "# using numpy\n",
    "print('{:.2f}'.format(np.cov(widgets, gadgets)[0][1]))"
   ]
  },
  {
   "cell_type": "code",
   "execution_count": 16,
   "metadata": {
    "colab": {
     "base_uri": "https://localhost:8080/",
     "height": 35
    },
    "colab_type": "code",
    "id": "4q2U5pSMnDCc",
    "outputId": "5585a7a9-deea-4709-c1a2-4a2f107f6f28"
   },
   "outputs": [
    {
     "name": "stdout",
     "output_type": "stream",
     "text": [
      "-2919.05\n"
     ]
    }
   ],
   "source": [
    "# using pandas\n",
    "df['gadgets'] = pd.Series(gadgets)\n",
    "print('{:.2f}'.format(df.cov().values[0][1]))"
   ]
  },
  {
   "cell_type": "markdown",
   "metadata": {
    "colab_type": "text",
    "id": "J9SbUY9mt66I"
   },
   "source": [
    "### 1.3 Correlation Coefficient \n",
    "Find the correlation coefficient that summarizes the relationship between widgets and gadgets. "
   ]
  },
  {
   "cell_type": "code",
   "execution_count": 17,
   "metadata": {
    "colab": {
     "base_uri": "https://localhost:8080/",
     "height": 52
    },
    "colab_type": "code",
    "id": "Glkaaa0hnDCf",
    "outputId": "1d5b1c03-124d-44e6-d135-4517ca51c963"
   },
   "outputs": [
    {
     "name": "stdout",
     "output_type": "stream",
     "text": [
      "89.4997\n",
      "151.2934\n"
     ]
    }
   ],
   "source": [
    "# Calculate the standard dev of both lists using pandas.\n",
    "std_w = df['widgets'].std(ddof=1)\n",
    "std_g = df['gadgets'].std(ddof=1)\n",
    "print('{:.4f}'.format(std_w))\n",
    "print('{:.4f}'.format(std_g))"
   ]
  },
  {
   "cell_type": "code",
   "execution_count": 18,
   "metadata": {
    "colab": {
     "base_uri": "https://localhost:8080/",
     "height": 35
    },
    "colab_type": "code",
    "id": "pnaUKUrPnDCh",
    "outputId": "2385ec57-4643-4473-cc21-a28dbb22ba64"
   },
   "outputs": [
    {
     "name": "stdout",
     "output_type": "stream",
     "text": [
      "-2919.0500\n"
     ]
    }
   ],
   "source": [
    "# Calculate covariance using pandas\n",
    "cov_wg = df['widgets'].cov(df['gadgets'])\n",
    "print('{:.4f}'.format(cov_wg))"
   ]
  },
  {
   "cell_type": "code",
   "execution_count": 19,
   "metadata": {
    "colab": {},
    "colab_type": "code",
    "id": "cpJO2i9ynDCj"
   },
   "outputs": [],
   "source": [
    "# Calculate the denominator\n",
    "denom = std_w*std_g"
   ]
  },
  {
   "cell_type": "code",
   "execution_count": 20,
   "metadata": {
    "colab": {
     "base_uri": "https://localhost:8080/",
     "height": 35
    },
    "colab_type": "code",
    "id": "vFJms2YRrKhY",
    "outputId": "79c8c199-37f6-4933-ea2b-5f9460a9cb26"
   },
   "outputs": [
    {
     "name": "stdout",
     "output_type": "stream",
     "text": [
      "-0.215576\n"
     ]
    }
   ],
   "source": [
    "# Calculate correlation\n",
    "corr_wg = cov_wg/denom\n",
    "print('{:.6f}'.format(corr_wg))"
   ]
  },
  {
   "cell_type": "code",
   "execution_count": 21,
   "metadata": {
    "colab": {
     "base_uri": "https://localhost:8080/",
     "height": 35
    },
    "colab_type": "code",
    "id": "2wxA_D2AnDCm",
    "outputId": "b9b58728-abb4-4e6c-abf7-4fbd0c3c5513"
   },
   "outputs": [
    {
     "name": "stdout",
     "output_type": "stream",
     "text": [
      "-0.215576\n"
     ]
    }
   ],
   "source": [
    "## Check work using pandas\n",
    "print('{:.6f}'.format(df['widgets'].corr(df['gadgets'])))"
   ]
  },
  {
   "cell_type": "code",
   "execution_count": 22,
   "metadata": {
    "colab": {
     "base_uri": "https://localhost:8080/",
     "height": 108
    },
    "colab_type": "code",
    "id": "JsQSwZjunDCr",
    "outputId": "c88bb4d6-3a29-4bcf-e323-c385e7395e54"
   },
   "outputs": [
    {
     "data": {
      "text/html": [
       "<div>\n",
       "<style scoped>\n",
       "    .dataframe tbody tr th:only-of-type {\n",
       "        vertical-align: middle;\n",
       "    }\n",
       "\n",
       "    .dataframe tbody tr th {\n",
       "        vertical-align: top;\n",
       "    }\n",
       "\n",
       "    .dataframe thead th {\n",
       "        text-align: right;\n",
       "    }\n",
       "</style>\n",
       "<table border=\"1\" class=\"dataframe\">\n",
       "  <thead>\n",
       "    <tr style=\"text-align: right;\">\n",
       "      <th></th>\n",
       "      <th>widgets</th>\n",
       "      <th>gadgets</th>\n",
       "    </tr>\n",
       "  </thead>\n",
       "  <tbody>\n",
       "    <tr>\n",
       "      <th>widgets</th>\n",
       "      <td>1.000000</td>\n",
       "      <td>-0.215576</td>\n",
       "    </tr>\n",
       "    <tr>\n",
       "      <th>gadgets</th>\n",
       "      <td>-0.215576</td>\n",
       "      <td>1.000000</td>\n",
       "    </tr>\n",
       "  </tbody>\n",
       "</table>\n",
       "</div>"
      ],
      "text/plain": [
       "          widgets   gadgets\n",
       "widgets  1.000000 -0.215576\n",
       "gadgets -0.215576  1.000000"
      ]
     },
     "execution_count": 22,
     "metadata": {},
     "output_type": "execute_result"
    }
   ],
   "source": [
    "# A shorter way to do this\n",
    "df.corr()"
   ]
  },
  {
   "cell_type": "markdown",
   "metadata": {
    "colab_type": "text",
    "id": "IbZVf7nmujPJ"
   },
   "source": [
    "### 1.4 The Variance-Covariance Matrix\n",
    "Import a dataset of residential properties in Washington DC. Calculate the variance-covariance matrix and correlation matrix for the dataset's numeric columns."
   ]
  },
  {
   "cell_type": "code",
   "execution_count": 23,
   "metadata": {
    "colab": {
     "base_uri": "https://localhost:8080/",
     "height": 108
    },
    "colab_type": "code",
    "id": "0TWgUIiaCFzq",
    "outputId": "42514dab-54b6-46dd-d208-e4b77235ac34"
   },
   "outputs": [
    {
     "data": {
      "text/html": [
       "<div>\n",
       "<style scoped>\n",
       "    .dataframe tbody tr th:only-of-type {\n",
       "        vertical-align: middle;\n",
       "    }\n",
       "\n",
       "    .dataframe tbody tr th {\n",
       "        vertical-align: top;\n",
       "    }\n",
       "\n",
       "    .dataframe thead th {\n",
       "        text-align: right;\n",
       "    }\n",
       "</style>\n",
       "<table border=\"1\" class=\"dataframe\">\n",
       "  <thead>\n",
       "    <tr style=\"text-align: right;\">\n",
       "      <th></th>\n",
       "      <th>BATHRM</th>\n",
       "      <th>HF_BATHRM</th>\n",
       "      <th>KITCHENS</th>\n",
       "      <th>HEAT</th>\n",
       "      <th>AC</th>\n",
       "      <th>ROOMS</th>\n",
       "      <th>PRICE</th>\n",
       "    </tr>\n",
       "  </thead>\n",
       "  <tbody>\n",
       "    <tr>\n",
       "      <th>0</th>\n",
       "      <td>1</td>\n",
       "      <td>1</td>\n",
       "      <td>1.0</td>\n",
       "      <td>Forced Air</td>\n",
       "      <td>Y</td>\n",
       "      <td>6</td>\n",
       "      <td>NaN</td>\n",
       "    </tr>\n",
       "    <tr>\n",
       "      <th>1</th>\n",
       "      <td>2</td>\n",
       "      <td>1</td>\n",
       "      <td>1.0</td>\n",
       "      <td>Hot Water Rad</td>\n",
       "      <td>Y</td>\n",
       "      <td>8</td>\n",
       "      <td>460000.0</td>\n",
       "    </tr>\n",
       "  </tbody>\n",
       "</table>\n",
       "</div>"
      ],
      "text/plain": [
       "   BATHRM  HF_BATHRM  KITCHENS           HEAT AC  ROOMS     PRICE\n",
       "0       1          1       1.0     Forced Air  Y      6       NaN\n",
       "1       2          1       1.0  Hot Water Rad  Y      8  460000.0"
      ]
     },
     "execution_count": 23,
     "metadata": {},
     "output_type": "execute_result"
    }
   ],
   "source": [
    "# source: https://www.kaggle.com/christophercorrea/dc-residential-properties/\n",
    "houses = pd.read_csv('https://raw.githubusercontent.com/austinlasseter/dash-scatterplot-housing/master/dchouses.csv')\n",
    "houses.head(2)"
   ]
  },
  {
   "cell_type": "code",
   "execution_count": 24,
   "metadata": {
    "colab": {
     "base_uri": "https://localhost:8080/",
     "height": 198
    },
    "colab_type": "code",
    "id": "4nfUnsmQnDCw",
    "outputId": "5d552531-22c8-498f-8f9f-b12475752db3"
   },
   "outputs": [
    {
     "data": {
      "text/html": [
       "<div>\n",
       "<style scoped>\n",
       "    .dataframe tbody tr th:only-of-type {\n",
       "        vertical-align: middle;\n",
       "    }\n",
       "\n",
       "    .dataframe tbody tr th {\n",
       "        vertical-align: top;\n",
       "    }\n",
       "\n",
       "    .dataframe thead th {\n",
       "        text-align: right;\n",
       "    }\n",
       "</style>\n",
       "<table border=\"1\" class=\"dataframe\">\n",
       "  <thead>\n",
       "    <tr style=\"text-align: right;\">\n",
       "      <th></th>\n",
       "      <th>BATHRM</th>\n",
       "      <th>HF_BATHRM</th>\n",
       "      <th>KITCHENS</th>\n",
       "      <th>ROOMS</th>\n",
       "      <th>PRICE</th>\n",
       "    </tr>\n",
       "  </thead>\n",
       "  <tbody>\n",
       "    <tr>\n",
       "      <th>BATHRM</th>\n",
       "      <td>1.007166</td>\n",
       "      <td>0.125448</td>\n",
       "      <td>0.329582</td>\n",
       "      <td>1.866127e+00</td>\n",
       "      <td>-5.164766e+05</td>\n",
       "    </tr>\n",
       "    <tr>\n",
       "      <th>HF_BATHRM</th>\n",
       "      <td>0.125448</td>\n",
       "      <td>0.340972</td>\n",
       "      <td>-0.067744</td>\n",
       "      <td>4.989159e-01</td>\n",
       "      <td>4.109166e+05</td>\n",
       "    </tr>\n",
       "    <tr>\n",
       "      <th>KITCHENS</th>\n",
       "      <td>0.329582</td>\n",
       "      <td>-0.067744</td>\n",
       "      <td>0.420696</td>\n",
       "      <td>9.291807e-01</td>\n",
       "      <td>-6.497264e+03</td>\n",
       "    </tr>\n",
       "    <tr>\n",
       "      <th>ROOMS</th>\n",
       "      <td>1.866127</td>\n",
       "      <td>0.498916</td>\n",
       "      <td>0.929181</td>\n",
       "      <td>7.218137e+00</td>\n",
       "      <td>-3.030853e+06</td>\n",
       "    </tr>\n",
       "    <tr>\n",
       "      <th>PRICE</th>\n",
       "      <td>-516476.554036</td>\n",
       "      <td>410916.625989</td>\n",
       "      <td>-6497.264022</td>\n",
       "      <td>-3.030853e+06</td>\n",
       "      <td>1.551202e+14</td>\n",
       "    </tr>\n",
       "  </tbody>\n",
       "</table>\n",
       "</div>"
      ],
      "text/plain": [
       "                  BATHRM      HF_BATHRM     KITCHENS         ROOMS  \\\n",
       "BATHRM          1.007166       0.125448     0.329582  1.866127e+00   \n",
       "HF_BATHRM       0.125448       0.340972    -0.067744  4.989159e-01   \n",
       "KITCHENS        0.329582      -0.067744     0.420696  9.291807e-01   \n",
       "ROOMS           1.866127       0.498916     0.929181  7.218137e+00   \n",
       "PRICE     -516476.554036  410916.625989 -6497.264022 -3.030853e+06   \n",
       "\n",
       "                  PRICE  \n",
       "BATHRM    -5.164766e+05  \n",
       "HF_BATHRM  4.109166e+05  \n",
       "KITCHENS  -6.497264e+03  \n",
       "ROOMS     -3.030853e+06  \n",
       "PRICE      1.551202e+14  "
      ]
     },
     "execution_count": 24,
     "metadata": {},
     "output_type": "execute_result"
    }
   ],
   "source": [
    "# calculate the covariance for the entire dataset\n",
    "houses.cov()"
   ]
  },
  {
   "cell_type": "code",
   "execution_count": 25,
   "metadata": {
    "colab": {
     "base_uri": "https://localhost:8080/",
     "height": 198
    },
    "colab_type": "code",
    "id": "Rs27LfIfnDCz",
    "outputId": "967a425b-3481-4cfd-8bdd-5dd6868293ac"
   },
   "outputs": [
    {
     "data": {
      "text/html": [
       "<div>\n",
       "<style scoped>\n",
       "    .dataframe tbody tr th:only-of-type {\n",
       "        vertical-align: middle;\n",
       "    }\n",
       "\n",
       "    .dataframe tbody tr th {\n",
       "        vertical-align: top;\n",
       "    }\n",
       "\n",
       "    .dataframe thead th {\n",
       "        text-align: right;\n",
       "    }\n",
       "</style>\n",
       "<table border=\"1\" class=\"dataframe\">\n",
       "  <thead>\n",
       "    <tr style=\"text-align: right;\">\n",
       "      <th></th>\n",
       "      <th>BATHRM</th>\n",
       "      <th>HF_BATHRM</th>\n",
       "      <th>KITCHENS</th>\n",
       "      <th>ROOMS</th>\n",
       "      <th>PRICE</th>\n",
       "    </tr>\n",
       "  </thead>\n",
       "  <tbody>\n",
       "    <tr>\n",
       "      <th>BATHRM</th>\n",
       "      <td>1.000000</td>\n",
       "      <td>0.214070</td>\n",
       "      <td>0.461896</td>\n",
       "      <td>0.692115</td>\n",
       "      <td>-0.042109</td>\n",
       "    </tr>\n",
       "    <tr>\n",
       "      <th>HF_BATHRM</th>\n",
       "      <td>0.214070</td>\n",
       "      <td>1.000000</td>\n",
       "      <td>-0.173102</td>\n",
       "      <td>0.318021</td>\n",
       "      <td>0.058728</td>\n",
       "    </tr>\n",
       "    <tr>\n",
       "      <th>KITCHENS</th>\n",
       "      <td>0.461896</td>\n",
       "      <td>-0.173102</td>\n",
       "      <td>1.000000</td>\n",
       "      <td>0.592760</td>\n",
       "      <td>-0.021364</td>\n",
       "    </tr>\n",
       "    <tr>\n",
       "      <th>ROOMS</th>\n",
       "      <td>0.692115</td>\n",
       "      <td>0.318021</td>\n",
       "      <td>0.592760</td>\n",
       "      <td>1.000000</td>\n",
       "      <td>-0.088273</td>\n",
       "    </tr>\n",
       "    <tr>\n",
       "      <th>PRICE</th>\n",
       "      <td>-0.042109</td>\n",
       "      <td>0.058728</td>\n",
       "      <td>-0.021364</td>\n",
       "      <td>-0.088273</td>\n",
       "      <td>1.000000</td>\n",
       "    </tr>\n",
       "  </tbody>\n",
       "</table>\n",
       "</div>"
      ],
      "text/plain": [
       "             BATHRM  HF_BATHRM  KITCHENS     ROOMS     PRICE\n",
       "BATHRM     1.000000   0.214070  0.461896  0.692115 -0.042109\n",
       "HF_BATHRM  0.214070   1.000000 -0.173102  0.318021  0.058728\n",
       "KITCHENS   0.461896  -0.173102  1.000000  0.592760 -0.021364\n",
       "ROOMS      0.692115   0.318021  0.592760  1.000000 -0.088273\n",
       "PRICE     -0.042109   0.058728 -0.021364 -0.088273  1.000000"
      ]
     },
     "execution_count": 25,
     "metadata": {},
     "output_type": "execute_result"
    }
   ],
   "source": [
    "# calculate the correlation for the entire dataset\n",
    "houses.corr()"
   ]
  },
  {
   "cell_type": "markdown",
   "metadata": {
    "colab_type": "text",
    "id": "7K0Xfh8MvYkl"
   },
   "source": [
    "## 2. Orthogonality"
   ]
  },
  {
   "cell_type": "markdown",
   "metadata": {
    "colab_type": "text",
    "id": "MiNjyqiEz5SG"
   },
   "source": [
    "### 2.1 Quick review of norm and dot product."
   ]
  },
  {
   "cell_type": "code",
   "execution_count": 26,
   "metadata": {
    "colab": {
     "base_uri": "https://localhost:8080/",
     "height": 52
    },
    "colab_type": "code",
    "id": "tvmE56uanDC3",
    "outputId": "7eb917b3-3173-4cd5-f5b0-2541067bffe8"
   },
   "outputs": [
    {
     "name": "stdout",
     "output_type": "stream",
     "text": [
      "[42 73  6] \n",
      " [97 69 69]\n"
     ]
    }
   ],
   "source": [
    "# let's make a couple of vectors.\n",
    "v = np.random.randint(low=1, high=100, size=3)\n",
    "x = np.random.randint(low=1, high=100, size=3)\n",
    "print(v, '\\n', x)"
   ]
  },
  {
   "cell_type": "code",
   "execution_count": 27,
   "metadata": {
    "colab": {
     "base_uri": "https://localhost:8080/",
     "height": 52
    },
    "colab_type": "code",
    "id": "06xHlrTlnDC6",
    "outputId": "7da4d14e-2c4d-4603-ac18-a0342c85f5c4"
   },
   "outputs": [
    {
     "name": "stdout",
     "output_type": "stream",
     "text": [
      "7129.00\n",
      "18931.00\n"
     ]
    }
   ],
   "source": [
    "# quick: which one is longer? \n",
    "for vect in [v,x]:\n",
    "    norm=np.linalg.norm(vect)**2\n",
    "    print('{:.2f}'.format(norm))"
   ]
  },
  {
   "cell_type": "code",
   "execution_count": 28,
   "metadata": {
    "colab": {
     "base_uri": "https://localhost:8080/",
     "height": 35
    },
    "colab_type": "code",
    "id": "4ao4ZgKNnDC8",
    "outputId": "abc5414d-3463-458e-d46e-d213a01a584d"
   },
   "outputs": [
    {
     "data": {
      "text/plain": [
       "9525"
      ]
     },
     "execution_count": 28,
     "metadata": {},
     "output_type": "execute_result"
    }
   ],
   "source": [
    "# what's the dot product of x and v? using array broadcasting\n",
    "(v[0]*x[0]) + (v[1]*x[1]) + (v[2]*x[2])"
   ]
  },
  {
   "cell_type": "code",
   "execution_count": 29,
   "metadata": {
    "colab": {
     "base_uri": "https://localhost:8080/",
     "height": 35
    },
    "colab_type": "code",
    "id": "IlV_uaYK1EQB",
    "outputId": "19a258b6-e3ef-4349-81f1-50bf84bb8156"
   },
   "outputs": [
    {
     "data": {
      "text/plain": [
       "9525"
      ]
     },
     "execution_count": 29,
     "metadata": {},
     "output_type": "execute_result"
    }
   ],
   "source": [
    "# what's the dot product of x and v? using numpy\n",
    "np.dot(x,v)"
   ]
  },
  {
   "cell_type": "code",
   "execution_count": 30,
   "metadata": {
    "colab": {
     "base_uri": "https://localhost:8080/",
     "height": 35
    },
    "colab_type": "code",
    "id": "FFPwT01inDDA",
    "outputId": "348523fd-6bc7-4ebb-af3b-d57cf9a61c22"
   },
   "outputs": [
    {
     "data": {
      "text/plain": [
       "9525"
      ]
     },
     "execution_count": 30,
     "metadata": {},
     "output_type": "execute_result"
    }
   ],
   "source": [
    "# there's another way to write this.\n",
    "x.dot(v) "
   ]
  },
  {
   "cell_type": "markdown",
   "metadata": {
    "colab_type": "text",
    "id": "Pe3eOZ2fvdZ-"
   },
   "source": [
    "### 2.2 Orthogonality"
   ]
  },
  {
   "cell_type": "code",
   "execution_count": 31,
   "metadata": {
    "colab": {},
    "colab_type": "code",
    "id": "YLSBk7hJvvCx"
   },
   "outputs": [],
   "source": [
    "# import\n",
    "import matplotlib.pyplot as plt\n",
    "%matplotlib inline"
   ]
  },
  {
   "cell_type": "code",
   "execution_count": 32,
   "metadata": {
    "colab": {},
    "colab_type": "code",
    "id": "TlhzHqYlnDDF"
   },
   "outputs": [],
   "source": [
    "# choose some vectors\n",
    "vector_1 = [2, 2]\n",
    "vector_2 = [1, -1]"
   ]
  },
  {
   "cell_type": "code",
   "execution_count": 33,
   "metadata": {
    "colab": {
     "base_uri": "https://localhost:8080/",
     "height": 269
    },
    "colab_type": "code",
    "id": "oHFvKnbnnDDH",
    "outputId": "d02eab6b-b38e-4a51-f6af-da1cea90fa6e"
   },
   "outputs": [
    {
     "data": {
      "image/png": "[encoded data removed]",
      "text/plain": [
       "<Figure size 288x288 with 1 Axes>"
      ]
     },
     "metadata": {
      "needs_background": "light"
     },
     "output_type": "display_data"
    }
   ],
   "source": [
    "# Set up the figure so that x and y axes are symmetrical.\n",
    "\n",
    "fig, ax = plt.subplots(figsize=(4,4))\n",
    "ax.grid()\n",
    "plt.xlim(-2,3)          \n",
    "plt.ylim(-2,3)\n",
    "\n",
    "# Plot the vectors\n",
    "for vect in [vector_1, vector_2]:\n",
    "    plt.arrow(0,0, vect[0], vect[1], head_width=.2, head_length=0.2, linewidth=4)\n",
    "plt.show()"
   ]
  },
  {
   "cell_type": "markdown",
   "metadata": {
    "colab_type": "text",
    "id": "7AS4V1Nhvvxz"
   },
   "source": [
    "Are the following vectors orthogonal?"
   ]
  },
  {
   "cell_type": "code",
   "execution_count": 34,
   "metadata": {
    "colab": {
     "base_uri": "https://localhost:8080/",
     "height": 35
    },
    "colab_type": "code",
    "id": "F_-y54YSz47k",
    "outputId": "009f5bf1-14ad-47e8-92ba-c85a75f57af3"
   },
   "outputs": [
    {
     "data": {
      "text/plain": [
       "47"
      ]
     },
     "execution_count": 34,
     "metadata": {},
     "output_type": "execute_result"
    }
   ],
   "source": [
    "# If dot product != 0, then vectors are not orthogonal.\n",
    "a = np.array([-7,4])\n",
    "b = np.array([-5,3])\n",
    "np.dot(a,b)"
   ]
  },
  {
   "cell_type": "code",
   "execution_count": 35,
   "metadata": {
    "colab": {
     "base_uri": "https://localhost:8080/",
     "height": 35
    },
    "colab_type": "code",
    "id": "THsK1eLPnDDN",
    "outputId": "1087b4f9-8f2d-46bd-f336-707343912ac3"
   },
   "outputs": [
    {
     "data": {
      "text/plain": [
       "0"
      ]
     },
     "execution_count": 35,
     "metadata": {},
     "output_type": "execute_result"
    }
   ],
   "source": [
    "# If dot product = 0, then vectors are orthogonal.\n",
    "a = np.array([0,4])\n",
    "b = np.array([-5,0])\n",
    "np.dot(a,b)"
   ]
  },
  {
   "cell_type": "code",
   "execution_count": 36,
   "metadata": {
    "colab": {
     "base_uri": "https://localhost:8080/",
     "height": 35
    },
    "colab_type": "code",
    "id": "3097JSy4nDDS",
    "outputId": "438a7c39-55e2-4ea9-8806-e865ab9396af"
   },
   "outputs": [
    {
     "data": {
      "text/plain": [
       "0"
      ]
     },
     "execution_count": 36,
     "metadata": {},
     "output_type": "execute_result"
    }
   ],
   "source": [
    "# If dot product = 0, then vectors are orthogonal.\n",
    "np.dot(vector_1,vector_2)"
   ]
  },
  {
   "cell_type": "code",
   "execution_count": 37,
   "metadata": {
    "colab": {
     "base_uri": "https://localhost:8080/",
     "height": 69
    },
    "colab_type": "code",
    "id": "2Rf_eYxlnDDW",
    "outputId": "0cff663f-3d44-47be-8a57-170a5de1f5ee"
   },
   "outputs": [
    {
     "name": "stdout",
     "output_type": "stream",
     "text": [
      "[ 0.56556392 -2.61265358  2.1670803 ]\n",
      "[-0.25976011  0.77702865  1.00458559]\n",
      "0.00000000\n"
     ]
    }
   ],
   "source": [
    "# For any vector, generate another vector that is orthogonal to it.\n",
    "k = np.random.randn(3) # take any random vector.\n",
    "print(k)\n",
    "x = np.random.randn(3) # take any random vector of the same length.\n",
    "x -= x.dot(k) * k / np.linalg.norm(k)**2      # make it orthogonal to k\n",
    "print(x)\n",
    "xk=np.dot(x, k) # generate the dot product, to confirm that it's zero.\n",
    "print('{:.8f}'.format(xk))"
   ]
  },
  {
   "cell_type": "markdown",
   "metadata": {
    "colab_type": "text",
    "id": "MK_TpWqk1Evk"
   },
   "source": [
    "## 3. Unit Vectors"
   ]
  },
  {
   "cell_type": "code",
   "execution_count": 38,
   "metadata": {
    "colab": {
     "base_uri": "https://localhost:8080/",
     "height": 35
    },
    "colab_type": "code",
    "id": "I3W8ZiHR1_Fa",
    "outputId": "e056ea3d-934a-43cb-9988-d50145a9c796"
   },
   "outputs": [
    {
     "data": {
      "text/plain": [
       "array([17, 78, 35, 73, 30])"
      ]
     },
     "execution_count": 38,
     "metadata": {},
     "output_type": "execute_result"
    }
   ],
   "source": [
    "# Suppose we have a vector f.\n",
    "f = np.random.randint(low=1, high=100, size=5)\n",
    "f"
   ]
  },
  {
   "cell_type": "code",
   "execution_count": 39,
   "metadata": {
    "colab": {
     "base_uri": "https://localhost:8080/",
     "height": 35
    },
    "colab_type": "code",
    "id": "Dr8pE-wHnDDe",
    "outputId": "d109eabb-c7fc-4492-c531-cfaf4d1c2e1a"
   },
   "outputs": [
    {
     "name": "stdout",
     "output_type": "stream",
     "text": [
      "117.5883\n"
     ]
    }
   ],
   "source": [
    "# how long is it?\n",
    "norm_f = np.linalg.norm(f)\n",
    "print('{:.4f}'.format(norm_f))"
   ]
  },
  {
   "cell_type": "code",
   "execution_count": 40,
   "metadata": {
    "colab": {
     "base_uri": "https://localhost:8080/",
     "height": 35
    },
    "colab_type": "code",
    "id": "ejqFtzV6nDDg",
    "outputId": "eed41490-430f-452d-eabe-c4f1d0b71872"
   },
   "outputs": [
    {
     "name": "stdout",
     "output_type": "stream",
     "text": [
      "[0.14457225 0.6633315  0.29764875 0.62081025 0.2551275 ]\n"
     ]
    }
   ],
   "source": [
    "# find its unit vector. the hat symbol (f^) indicates it's a unit vector.\n",
    "f_hat = f/np.linalg.norm(f)\n",
    "print(f_hat)"
   ]
  },
  {
   "cell_type": "code",
   "execution_count": 41,
   "metadata": {
    "colab": {
     "base_uri": "https://localhost:8080/",
     "height": 35
    },
    "colab_type": "code",
    "id": "l9LDNhH3nDDi",
    "outputId": "f8ec9279-7a29-431c-e7c2-0000b5ab1809"
   },
   "outputs": [
    {
     "name": "stdout",
     "output_type": "stream",
     "text": [
      "1.0000\n"
     ]
    }
   ],
   "source": [
    "# how long is this?\n",
    "f_hat_norm = np.linalg.norm(f_hat)\n",
    "print('{:.4f}'.format(f_hat_norm))"
   ]
  },
  {
   "cell_type": "markdown",
   "metadata": {
    "colab_type": "text",
    "id": "o39UyP-I5lpP"
   },
   "source": [
    "## 4. Linear Independence / Dependence "
   ]
  },
  {
   "cell_type": "markdown",
   "metadata": {
    "colab_type": "text",
    "id": "ajfBqYe45sT5"
   },
   "source": [
    "Plot two vectors that are linearly dependent and two vectors that are linearly independent (bonus points if done in $\\mathbb{R}^3$)."
   ]
  },
  {
   "cell_type": "code",
   "execution_count": 42,
   "metadata": {
    "colab": {
     "base_uri": "https://localhost:8080/",
     "height": 52
    },
    "colab_type": "code",
    "id": "gJBiBwtknDDl",
    "outputId": "51848999-9c6b-413d-a069-a9647dc0edeb"
   },
   "outputs": [
    {
     "name": "stdout",
     "output_type": "stream",
     "text": [
      "[-0.8, 1.3] \n",
      " [-1.6  2.6]\n"
     ]
    }
   ],
   "source": [
    "# Linearly dependent vectors\n",
    "vector_1 = [-.8, 1.3]\n",
    "vector_2 = np.multiply(vector_1, 2)\n",
    "print(vector_1, '\\n', vector_2)"
   ]
  },
  {
   "cell_type": "code",
   "execution_count": 43,
   "metadata": {
    "colab": {
     "base_uri": "https://localhost:8080/",
     "height": 269
    },
    "colab_type": "code",
    "id": "Eut55rrbnDDp",
    "outputId": "4717d87b-b5eb-4163-c0a5-18c4eedb01c6"
   },
   "outputs": [
    {
     "data": {
      "image/png": "[encoded data removed]",
      "text/plain": [
       "<Figure size 288x288 with 1 Axes>"
      ]
     },
     "metadata": {
      "needs_background": "light"
     },
     "output_type": "display_data"
    }
   ],
   "source": [
    "# Plot the vectors\n",
    "\n",
    "fig, ax = plt.subplots(figsize=(4,4))\n",
    "ax.grid()\n",
    "plt.xlim(-3,3)          \n",
    "plt.ylim(-3,3)\n",
    "\n",
    "for myvect, mycolor, width in [(vector_1, 'cyan', 15), (vector_2, 'crimson', 5)]:\n",
    "    plt.arrow(0,0,\n",
    "              myvect[0], \n",
    "              myvect[1], \n",
    "              head_width=.2, \n",
    "              head_length=0.2, \n",
    "              linewidth=width, \n",
    "              color=mycolor)"
   ]
  },
  {
   "cell_type": "code",
   "execution_count": 44,
   "metadata": {
    "colab": {
     "base_uri": "https://localhost:8080/",
     "height": 52
    },
    "colab_type": "code",
    "id": "abP8EFRrnDDr",
    "outputId": "b306047c-6567-4810-d1f5-787712ed086b"
   },
   "outputs": [
    {
     "name": "stdout",
     "output_type": "stream",
     "text": [
      "[0 2] \n",
      " [-1 -2]\n"
     ]
    }
   ],
   "source": [
    "# Linearly independent vectors, not orthogonal\n",
    "vector_1 = np.random.randint(low=-3, high=3, size=2)\n",
    "vector_2 = np.random.randint(low=-3, high=3, size=2)\n",
    "print(vector_1, '\\n', vector_2)"
   ]
  },
  {
   "cell_type": "code",
   "execution_count": 45,
   "metadata": {
    "colab": {
     "base_uri": "https://localhost:8080/",
     "height": 269
    },
    "colab_type": "code",
    "id": "sUAQ1AY8nDDu",
    "outputId": "8456621c-6ff2-4a94-bb55-b6040c22c1c6"
   },
   "outputs": [
    {
     "data": {
      "image/png": "[encoded data removed]",
      "text/plain": [
       "<Figure size 288x288 with 1 Axes>"
      ]
     },
     "metadata": {
      "needs_background": "light"
     },
     "output_type": "display_data"
    }
   ],
   "source": [
    "# Set up the grid\n",
    "fig, ax = plt.subplots(figsize=(4,4))\n",
    "ax.grid()\n",
    "plt.xlim(-3,3)          \n",
    "plt.ylim(-3,3)\n",
    "\n",
    "# Plot the vectors\n",
    "for myvect, mycolor, width in [(vector_1, 'cyan', 15), (vector_2, 'crimson', 5)]:\n",
    "    plt.arrow(0,0,\n",
    "              myvect[0], \n",
    "              myvect[1], \n",
    "              head_width=.2, \n",
    "              head_length=0.2, \n",
    "              linewidth=width, \n",
    "              color=mycolor)"
   ]
  },
  {
   "cell_type": "markdown",
   "metadata": {
    "colab_type": "text",
    "id": "TrJ0MT_n3SvO"
   },
   "source": [
    "## 5. Span"
   ]
  },
  {
   "cell_type": "markdown",
   "metadata": {
    "colab_type": "text",
    "id": "p1i_ueD25ZcP"
   },
   "source": [
    "Suppose we have two vectors. The linear combination is as follows, where a and b are any scalars.\n",
    "\n",
    "\\begin{align}\n",
    "a\\begin{bmatrix} 1 & 3 \\end{bmatrix} +\n",
    "b\\begin{bmatrix} 2 & 1 \\end{bmatrix}\n",
    "\\end{align}\n",
    "\n",
    "Note that:\n",
    "* The set of all possible linear combinations (i.e., all possible values of a and b) is the span of these vectors. \n",
    "* A set of vectors _spans_ a space if their linear combinations fill the space.\n",
    "* The span of most pairs of 2D vectors is the entire infinite sheet of infinite space (unless they are colinear). "
   ]
  },
  {
   "cell_type": "code",
   "execution_count": 46,
   "metadata": {
    "colab": {},
    "colab_type": "code",
    "id": "IchFZn3FnDD0"
   },
   "outputs": [],
   "source": [
    "# Let's take two vectors.\n",
    "vector_1 = np.array([1,3])\n",
    "vector_2 = np.array([2,1])"
   ]
  },
  {
   "cell_type": "code",
   "execution_count": 47,
   "metadata": {
    "colab": {
     "base_uri": "https://localhost:8080/",
     "height": 265
    },
    "colab_type": "code",
    "id": "fOOsc2wnnDD2",
    "outputId": "4d09495a-e0a9-40d0-fe46-ebbed38c4305"
   },
   "outputs": [
    {
     "data": {
      "image/png": "[encoded data removed]",
      "text/plain": [
       "<Figure size 288x288 with 1 Axes>"
      ]
     },
     "metadata": {
      "needs_background": "light"
     },
     "output_type": "display_data"
    }
   ],
   "source": [
    "# Plot them on a grid\n",
    "fig, ax = plt.subplots(figsize=(4,4))\n",
    "ax.grid()\n",
    "plt.xlim(-5,5)          \n",
    "plt.ylim(-5,5)\n",
    "\n",
    "# Display\n",
    "for myvect in [vector_1, vector_2]:\n",
    "    plt.arrow(0,0,\n",
    "              myvect[0], \n",
    "              myvect[1], \n",
    "              head_width=.2, \n",
    "              head_length=0.2, \n",
    "              linewidth=10, \n",
    "              color='chartreuse')"
   ]
  },
  {
   "cell_type": "code",
   "execution_count": 48,
   "metadata": {
    "colab": {
     "base_uri": "https://localhost:8080/",
     "height": 35
    },
    "colab_type": "code",
    "id": "GG0Ng_EMnDD5",
    "outputId": "2c9c7ab7-7a29-4813-80e2-df17770dac8f"
   },
   "outputs": [
    {
     "name": "stdout",
     "output_type": "stream",
     "text": [
      "[8 9]\n"
     ]
    }
   ],
   "source": [
    "# This is one possible linear combination:\n",
    "a,b=(2,3)\n",
    "linear_combo= np.multiply(vector_1, a) + np.multiply(vector_2, b) \n",
    "print(linear_combo)"
   ]
  },
  {
   "cell_type": "code",
   "execution_count": 49,
   "metadata": {
    "colab": {
     "base_uri": "https://localhost:8080/",
     "height": 35
    },
    "colab_type": "code",
    "id": "SlzxYyirnDD8",
    "outputId": "d3528d93-0224-4a02-9694-1234df99cd75"
   },
   "outputs": [
    {
     "name": "stdout",
     "output_type": "stream",
     "text": [
      "[array([8, 9]), array([14, 17]), array([20, 25]), array([26, 33])]\n"
     ]
    }
   ],
   "source": [
    "# This is a set of several linear combinations:\n",
    "muchos_combos=[]\n",
    "for (a,b) in [(2,3), (4,5), (6,7), (8,9)]:\n",
    "    linear_combo = np.multiply(vector_1, a) + np.multiply(vector_2, b) \n",
    "    muchos_combos.append(linear_combo)\n",
    "print(muchos_combos)"
   ]
  },
  {
   "cell_type": "markdown",
   "metadata": {
    "colab_type": "text",
    "id": "IBqe7X1732kX"
   },
   "source": [
    "## 6. Basis"
   ]
  },
  {
   "cell_type": "markdown",
   "metadata": {
    "colab_type": "text",
    "id": "LzyALl_NnDEA"
   },
   "source": [
    "In 2-dimensional space $\\mathbb{R}^2$, ANY vector (a,b) can be decomposed as the linear combination of the basis vectors (1,0) and (0,1). Since these are unit vectors, they are called \"orthonormal basis\".\n",
    "\n",
    "(a,b) = a(1,0) + b(0,1)"
   ]
  },
  {
   "cell_type": "code",
   "execution_count": 50,
   "metadata": {
    "colab": {
     "base_uri": "https://localhost:8080/",
     "height": 281
    },
    "colab_type": "code",
    "id": "utvF3Pkt8NP6",
    "outputId": "54bd7b49-e632-4a86-da86-5b737bf3bde4"
   },
   "outputs": [
    {
     "data": {
      "image/png": "[encoded data removed]",
      "text/plain": [
       "<Figure size 432x288 with 1 Axes>"
      ]
     },
     "metadata": {
      "needs_background": "light"
     },
     "output_type": "display_data"
    }
   ],
   "source": [
    "# find basis vectors in 2-d\n",
    "vector_1 = [-2, 2]\n",
    "vector_2 = [2, 2]\n",
    "\n",
    "# Plot the Scaled Vectors\n",
    "plt.arrow(0,0, vector_1[0], vector_1[1],head_width=.05, head_length=0.05, color ='red')\n",
    "plt.arrow(0,0, vector_2[0], vector_2[1],head_width=.05, head_length=0.05, color ='green')\n",
    "plt.xlim(-3,3)          \n",
    "plt.ylim(-1,3)\n",
    "plt.title(\"Basis for R^2\")\n",
    "plt.show()"
   ]
  },
  {
   "cell_type": "markdown",
   "metadata": {
    "colab_type": "text",
    "id": "EHmUxbcY6vD3"
   },
   "source": [
    "## 7. Rank"
   ]
  },
  {
   "cell_type": "markdown",
   "metadata": {
    "colab_type": "text",
    "id": "5roiZXxGqLTA"
   },
   "source": [
    "Rank means the number of dimensions in the output of a matrix that's used for linear transformation. For example, when the output of a transformation is a line, we say the matrix has a rank of 1. If it's a plane, then it's rank 2. Put another way, Rank tells us the number of linearly independent vectors in the row space of a matrix and by extension the space of R^n that is spanned by the vectors of the matrix."
   ]
  },
  {
   "cell_type": "code",
   "execution_count": 53,
   "metadata": {
    "colab": {
     "base_uri": "https://localhost:8080/",
     "height": 35
    },
    "colab_type": "code",
    "id": "Ms2wG0smnDED",
    "outputId": "8fe442d7-e1de-48d2-ceda-f691c42933c5"
   },
   "outputs": [
    {
     "data": {
      "text/plain": [
       "2"
      ]
     },
     "execution_count": 53,
     "metadata": {
      "tags": []
     },
     "output_type": "execute_result"
    }
   ],
   "source": [
    "# Rank two\n",
    "P = np.array([[1,2,3],[4,5,6]])\n",
    "np.linalg.matrix_rank(P)"
   ]
  },
  {
   "cell_type": "markdown",
   "metadata": {},
   "source": [
    "To find the span of multiple vectors you first have to find their rank. Because their matrix is rank 3, we know that these vectors span R^3."
   ]
  },
  {
   "cell_type": "code",
   "execution_count": 4,
   "metadata": {},
   "outputs": [
    {
     "data": {
      "text/plain": [
       "3"
      ]
     },
     "execution_count": 4,
     "metadata": {},
     "output_type": "execute_result"
    }
   ],
   "source": [
    "# example\n",
    "import numpy as np\n",
    "v1 = np.array([[2,4,6],[-2,0,3],[2,8,12]])\n",
    "np.linalg.matrix_rank(v1)"
   ]
  },
  {
   "cell_type": "code",
   "execution_count": 15,
   "metadata": {},
   "outputs": [
    {
     "data": {
      "text/plain": [
       "3"
      ]
     },
     "execution_count": 15,
     "metadata": {},
     "output_type": "execute_result"
    }
   ],
   "source": [
    "matrix = pd.DataFrame({'a':[1,2,3],'b':[-1,0,7],'c':[4,8,2]})\n",
    "np.linalg.matrix_rank(matrix)"
   ]
  },
  {
   "cell_type": "code",
   "execution_count": 10,
   "metadata": {},
   "outputs": [
    {
     "data": {
      "text/plain": [
       "1"
      ]
     },
     "execution_count": 10,
     "metadata": {},
     "output_type": "execute_result"
    }
   ],
   "source": [
    "# this also works if the vectors are introduced as columns\n",
    "import pandas as pd\n",
    "v2 = np.array([[1],[-2],[2]])\n",
    "v2=pd.DataFrame(v2)\n",
    "np.linalg.matrix_rank(v2)"
   ]
  },
  {
   "cell_type": "code",
   "execution_count": 54,
   "metadata": {
    "colab": {
     "base_uri": "https://localhost:8080/",
     "height": 52
    },
    "colab_type": "code",
    "id": "nqFzLQTZnDEH",
    "outputId": "ed78e616-d5f7-4c72-e3de-45be0fe11113"
   },
   "outputs": [
    {
     "data": {
      "text/plain": [
       "array([[1., 0.],\n",
       "       [0., 1.]])"
      ]
     },
     "execution_count": 54,
     "metadata": {
      "tags": []
     },
     "output_type": "execute_result"
    }
   ],
   "source": [
    "# Return a 2-D array with ones on the diagonal and zeros elsewhere.\n",
    "np.eye(2)"
   ]
  },
  {
   "cell_type": "code",
   "execution_count": 55,
   "metadata": {
    "colab": {
     "base_uri": "https://localhost:8080/",
     "height": 35
    },
    "colab_type": "code",
    "id": "5wcAgs_hnDEJ",
    "outputId": "683aab7d-fb07-4c39-f3e9-ed6a39dc40e6"
   },
   "outputs": [
    {
     "data": {
      "text/plain": [
       "3"
      ]
     },
     "execution_count": 55,
     "metadata": {
      "tags": []
     },
     "output_type": "execute_result"
    }
   ],
   "source": [
    "# rank three\n",
    "P = np.array([[1,2,3],[-1,0,7],[4,8,2]])\n",
    "np.linalg.matrix_rank(P)"
   ]
  },
  {
   "cell_type": "code",
   "execution_count": 56,
   "metadata": {
    "colab": {
     "base_uri": "https://localhost:8080/",
     "height": 86
    },
    "colab_type": "code",
    "id": "xR4wGh-mnDEK",
    "outputId": "4b7716be-f2ff-473a-83b6-2fd0f9979c70"
   },
   "outputs": [
    {
     "data": {
      "text/plain": [
       "array([[1., 0., 0., 0.],\n",
       "       [0., 1., 0., 0.],\n",
       "       [0., 0., 1., 0.],\n",
       "       [0., 0., 0., 1.]])"
      ]
     },
     "execution_count": 56,
     "metadata": {
      "tags": []
     },
     "output_type": "execute_result"
    }
   ],
   "source": [
    "# rank four\n",
    "np.eye(4)"
   ]
  },
  {
   "cell_type": "code",
   "execution_count": 57,
   "metadata": {
    "colab": {
     "base_uri": "https://localhost:8080/",
     "height": 35
    },
    "colab_type": "code",
    "id": "CmCHN8BynDEO",
    "outputId": "496bce0a-1420-402b-fe68-64472700967b"
   },
   "outputs": [
    {
     "data": {
      "text/plain": [
       "4"
      ]
     },
     "execution_count": 57,
     "metadata": {
      "tags": []
     },
     "output_type": "execute_result"
    }
   ],
   "source": [
    "# rank four\n",
    "np.linalg.matrix_rank(np.eye(4))"
   ]
  },
  {
   "cell_type": "code",
   "execution_count": 58,
   "metadata": {
    "colab": {
     "base_uri": "https://localhost:8080/",
     "height": 52
    },
    "colab_type": "code",
    "id": "pmg3u_8rnDEQ",
    "outputId": "e3308321-96bb-46f9-8aef-ed51cd85288d"
   },
   "outputs": [
    {
     "name": "stdout",
     "output_type": "stream",
     "text": [
      "0\n"
     ]
    },
    {
     "data": {
      "text/plain": [
       "array([], shape=(0, 0), dtype=float64)"
      ]
     },
     "execution_count": 58,
     "metadata": {
      "tags": []
     },
     "output_type": "execute_result"
    }
   ],
   "source": [
    "# Rank zero\n",
    "P = np.array([0])\n",
    "print(np.linalg.matrix_rank(P))\n",
    "np.eye(0)"
   ]
  },
  {
   "cell_type": "code",
   "execution_count": 59,
   "metadata": {
    "colab": {
     "base_uri": "https://localhost:8080/",
     "height": 35
    },
    "colab_type": "code",
    "id": "CXi3f9nCnDES",
    "outputId": "98218f9d-d064-4538-bdd9-3838e151633d"
   },
   "outputs": [
    {
     "data": {
      "text/plain": [
       "1"
      ]
     },
     "execution_count": 59,
     "metadata": {
      "tags": []
     },
     "output_type": "execute_result"
    }
   ],
   "source": [
    "# Rank one\n",
    "P = np.array([[1,2,3]])\n",
    "np.linalg.matrix_rank(P)"
   ]
  },
  {
   "cell_type": "code",
   "execution_count": 60,
   "metadata": {
    "colab": {
     "base_uri": "https://localhost:8080/",
     "height": 35
    },
    "colab_type": "code",
    "id": "zgKI7dbrnDEU",
    "outputId": "bd9a43f4-62e2-4712-9a20-8e04e218042c"
   },
   "outputs": [
    {
     "data": {
      "text/plain": [
       "array([[1.]])"
      ]
     },
     "execution_count": 60,
     "metadata": {
      "tags": []
     },
     "output_type": "execute_result"
    }
   ],
   "source": [
    "# Rank one\n",
    "np.eye(1)"
   ]
  },
  {
   "cell_type": "code",
   "execution_count": 73,
   "metadata": {
    "colab": {
     "base_uri": "https://localhost:8080/",
     "height": 35
    },
    "colab_type": "code",
    "id": "RAPC6Gypsm7Y",
    "outputId": "d186cf9b-65c4-43d5-d47d-b1c00fb9416e"
   },
   "outputs": [
    {
     "name": "stdout",
     "output_type": "stream",
     "text": [
      "3\n"
     ]
    }
   ],
   "source": [
    "# try this one.\n",
    "P = np.array([[11,12,31],\n",
    "              [-12,20,17],\n",
    "              [41,18,22]])\n",
    "rank = np.linalg.matrix_rank(P)\n",
    "print(rank)"
   ]
  },
  {
   "cell_type": "markdown",
   "metadata": {
    "colab_type": "text",
    "id": "0Db2sc_V8QD6"
   },
   "source": [
    "## 8. Linear Projections\n",
    "\n",
    "Line $L$ is formed by all of the vectors that can be created by scaling vector $v$ "
   ]
  },
  {
   "cell_type": "code",
   "execution_count": 0,
   "metadata": {
    "colab": {},
    "colab_type": "code",
    "id": "78Um7FqbnDEW"
   },
   "outputs": [],
   "source": [
    "# Original Vector\n",
    "v = np.array([2,1])\n",
    "w = np.array([-3,3])"
   ]
  },
  {
   "cell_type": "code",
   "execution_count": 0,
   "metadata": {
    "colab": {},
    "colab_type": "code",
    "id": "HJ3_u493nDEX"
   },
   "outputs": [],
   "source": [
    "# dot product\n",
    "w_dot_v = np.dot(v, w)\n",
    "v_dot_v = np.dot(v, v)"
   ]
  },
  {
   "cell_type": "code",
   "execution_count": 66,
   "metadata": {
    "colab": {
     "base_uri": "https://localhost:8080/",
     "height": 35
    },
    "colab_type": "code",
    "id": "5XqD6zY1nDEZ",
    "outputId": "f0b5eb6b-e680-4427-fb5c-f4fbf6dc7c80"
   },
   "outputs": [
    {
     "name": "stdout",
     "output_type": "stream",
     "text": [
      "[-1.2 -0.6]\n"
     ]
    }
   ],
   "source": [
    "# projection\n",
    "fraction = w_dot_v/v_dot_v\n",
    "projection = np.multiply(fraction,v)\n",
    "print(projection)"
   ]
  },
  {
   "cell_type": "code",
   "execution_count": 68,
   "metadata": {
    "colab": {
     "base_uri": "https://localhost:8080/",
     "height": 269
    },
    "colab_type": "code",
    "id": "YPWYmarFoNv7",
    "outputId": "4741ed83-f3de-45be-f6e3-dab691cf97f0"
   },
   "outputs": [
    {
     "data": {
      "image/png": "[encoded data removed]",
      "text/plain": [
       "<Figure size 432x288 with 1 Axes>"
      ]
     },
     "metadata": {
      "needs_background": "light",
      "tags": []
     },
     "output_type": "display_data"
    }
   ],
   "source": [
    "# Plot a line\n",
    "plt.xlim(-1,4)          \n",
    "plt.ylim(-1,4)\n",
    "axes = plt.gca()"
   ]
  },
  {
   "cell_type": "code",
   "execution_count": 0,
   "metadata": {
    "colab": {},
    "colab_type": "code",
    "id": "OdC9qHz3nDEa"
   },
   "outputs": [],
   "source": [
    "# Get Vals for L\n",
    "x_vals = np.array(axes.get_xlim())\n",
    "y_vals = 3*x_vals"
   ]
  },
  {
   "cell_type": "code",
   "execution_count": 71,
   "metadata": {
    "colab": {
     "base_uri": "https://localhost:8080/",
     "height": 341
    },
    "colab_type": "code",
    "id": "hp5z2WTBCNKx",
    "outputId": "37eb42a8-f4ce-4282-fecb-950b6db0d49e"
   },
   "outputs": [
    {
     "name": "stderr",
     "output_type": "stream",
     "text": [
      "/usr/local/lib/python3.6/dist-packages/ipykernel_launcher.py:6: MatplotlibDeprecationWarning: Adding an axes using the same arguments as a previous axes currently reuses the earlier instance.  In a future version, a new instance will always be created and returned.  Meanwhile, this warning can be suppressed, and the future behavior ensured, by passing a unique label to each axes instance.\n",
      "  \n"
     ]
    },
    {
     "data": {
      "text/plain": [
       "[<matplotlib.lines.Line2D at 0x7f3934e80eb8>]"
      ]
     },
     "execution_count": 71,
     "metadata": {
      "tags": []
     },
     "output_type": "execute_result"
    },
    {
     "data": {
      "image/png": "[encoded data removed]",
      "text/plain": [
       "<Figure size 432x288 with 1 Axes>"
      ]
     },
     "metadata": {
      "needs_background": "light",
      "tags": []
     },
     "output_type": "display_data"
    }
   ],
   "source": [
    "# Axis Bounds\n",
    "plt.xlim(-2,4)          \n",
    "plt.ylim(-2,4)\n",
    "\n",
    "# Set axes\n",
    "axes = plt.gca()\n",
    "plt.axes().set_aspect('equal')\n",
    "\n",
    "# Plot Vectors and L\n",
    "plt.plot(x_vals, y_vals, '--', color='b', linewidth=1)"
   ]
  },
  {
   "cell_type": "code",
   "execution_count": 0,
   "metadata": {
    "colab": {},
    "colab_type": "code",
    "id": "Oy4cTNF_nDEf"
   },
   "outputs": [],
   "source": []
  }
 ],
 "metadata": {
  "colab": {
   "collapsed_sections": [],
   "name": "LS_DS_132_Intermediate_Linear_Algebra_Assignment.ipynb",
   "provenance": []
  },
  "kernelspec": {
   "display_name": "Python 3",
   "language": "python",
   "name": "python3"
  },
  "language_info": {
   "codemirror_mode": {
    "name": "ipython",
    "version": 3
   },
   "file_extension": ".py",
   "mimetype": "text/x-python",
   "name": "python",
   "nbconvert_exporter": "python",
   "pygments_lexer": "ipython3",
   "version": "3.7.3"
  }
 },
 "nbformat": 4,
 "nbformat_minor": 1
}
