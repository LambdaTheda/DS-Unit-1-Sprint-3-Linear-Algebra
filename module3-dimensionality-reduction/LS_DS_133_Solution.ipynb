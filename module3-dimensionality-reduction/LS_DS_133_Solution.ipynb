{
 "cells": [
  {
   "cell_type": "markdown",
   "metadata": {},
   "source": [
    "## Principal Components Analysis\n",
    "### 0. Why is it useful?"
   ]
  },
  {
   "cell_type": "code",
   "execution_count": 3,
   "metadata": {},
   "outputs": [],
   "source": [
    "import pandas as pd\n",
    "import matplotlib.pyplot as plt\n",
    "# import the PCA module from sklearn\n",
    "from sklearn.decomposition import PCA"
   ]
  },
  {
   "cell_type": "code",
   "execution_count": 4,
   "metadata": {},
   "outputs": [
    {
     "data": {
      "text/plain": [
       "(10, 300)"
      ]
     },
     "execution_count": 4,
     "metadata": {},
     "output_type": "execute_result"
    }
   ],
   "source": [
    "# read in a dataset of word vectors (this is from Unit 4 Lesson 2: NLP)\n",
    "url ='https://raw.githubusercontent.com/austinlasseter/learnspacy/master/words300df.csv'\n",
    "words_df=pd.read_csv(url)\n",
    "words_df.shape"
   ]
  },
  {
   "cell_type": "code",
   "execution_count": 5,
   "metadata": {},
   "outputs": [],
   "source": [
    "# make a list of 10 words from Unit 4 Lesson 2\n",
    "# these words are the index of the df\n",
    "words = ['car', 'truck', 'suv', 'elves', 'dragon', 'sword', 'king', 'queen', 'prince',  'potato']"
   ]
  },
  {
   "cell_type": "code",
   "execution_count": 6,
   "metadata": {},
   "outputs": [
    {
     "data": {
      "text/html": [
       "<div>\n",
       "<style scoped>\n",
       "    .dataframe tbody tr th:only-of-type {\n",
       "        vertical-align: middle;\n",
       "    }\n",
       "\n",
       "    .dataframe tbody tr th {\n",
       "        vertical-align: top;\n",
       "    }\n",
       "\n",
       "    .dataframe thead th {\n",
       "        text-align: right;\n",
       "    }\n",
       "</style>\n",
       "<table border=\"1\" class=\"dataframe\">\n",
       "  <thead>\n",
       "    <tr style=\"text-align: right;\">\n",
       "      <th></th>\n",
       "      <th>0</th>\n",
       "      <th>1</th>\n",
       "      <th>2</th>\n",
       "      <th>3</th>\n",
       "      <th>4</th>\n",
       "      <th>5</th>\n",
       "      <th>6</th>\n",
       "      <th>7</th>\n",
       "      <th>8</th>\n",
       "      <th>9</th>\n",
       "      <th>...</th>\n",
       "      <th>290</th>\n",
       "      <th>291</th>\n",
       "      <th>292</th>\n",
       "      <th>293</th>\n",
       "      <th>294</th>\n",
       "      <th>295</th>\n",
       "      <th>296</th>\n",
       "      <th>297</th>\n",
       "      <th>298</th>\n",
       "      <th>299</th>\n",
       "    </tr>\n",
       "  </thead>\n",
       "  <tbody>\n",
       "    <tr>\n",
       "      <th>car</th>\n",
       "      <td>0.209870</td>\n",
       "      <td>0.46481</td>\n",
       "      <td>-0.242380</td>\n",
       "      <td>-0.065751</td>\n",
       "      <td>0.60856</td>\n",
       "      <td>-0.346980</td>\n",
       "      <td>-0.25331</td>\n",
       "      <td>-0.42590</td>\n",
       "      <td>-0.222770</td>\n",
       "      <td>2.2913</td>\n",
       "      <td>...</td>\n",
       "      <td>-1.19240</td>\n",
       "      <td>-0.463950</td>\n",
       "      <td>0.669840</td>\n",
       "      <td>-0.49404</td>\n",
       "      <td>0.441540</td>\n",
       "      <td>-0.43699</td>\n",
       "      <td>0.235380</td>\n",
       "      <td>0.321350</td>\n",
       "      <td>0.266490</td>\n",
       "      <td>0.224380</td>\n",
       "    </tr>\n",
       "    <tr>\n",
       "      <th>truck</th>\n",
       "      <td>0.219160</td>\n",
       "      <td>0.33113</td>\n",
       "      <td>0.068603</td>\n",
       "      <td>-0.158140</td>\n",
       "      <td>0.47723</td>\n",
       "      <td>0.280000</td>\n",
       "      <td>-0.40688</td>\n",
       "      <td>-0.37803</td>\n",
       "      <td>-0.093286</td>\n",
       "      <td>1.9458</td>\n",
       "      <td>...</td>\n",
       "      <td>-0.64227</td>\n",
       "      <td>-0.906760</td>\n",
       "      <td>0.869490</td>\n",
       "      <td>-0.28303</td>\n",
       "      <td>-0.084425</td>\n",
       "      <td>-0.89242</td>\n",
       "      <td>0.129450</td>\n",
       "      <td>0.275580</td>\n",
       "      <td>0.073594</td>\n",
       "      <td>-0.029304</td>\n",
       "    </tr>\n",
       "    <tr>\n",
       "      <th>suv</th>\n",
       "      <td>-0.068504</td>\n",
       "      <td>0.42310</td>\n",
       "      <td>0.329890</td>\n",
       "      <td>-0.419290</td>\n",
       "      <td>0.51394</td>\n",
       "      <td>0.097215</td>\n",
       "      <td>0.11566</td>\n",
       "      <td>-0.10200</td>\n",
       "      <td>-0.194500</td>\n",
       "      <td>-0.3830</td>\n",
       "      <td>...</td>\n",
       "      <td>-0.52782</td>\n",
       "      <td>-0.576770</td>\n",
       "      <td>-0.043894</td>\n",
       "      <td>-1.07040</td>\n",
       "      <td>0.207500</td>\n",
       "      <td>-0.72830</td>\n",
       "      <td>-0.131050</td>\n",
       "      <td>0.030543</td>\n",
       "      <td>0.349170</td>\n",
       "      <td>-0.418070</td>\n",
       "    </tr>\n",
       "    <tr>\n",
       "      <th>elves</th>\n",
       "      <td>-0.526580</td>\n",
       "      <td>-0.63112</td>\n",
       "      <td>-0.962200</td>\n",
       "      <td>-0.232330</td>\n",
       "      <td>-0.38139</td>\n",
       "      <td>-0.024054</td>\n",
       "      <td>0.32924</td>\n",
       "      <td>0.31445</td>\n",
       "      <td>-0.587620</td>\n",
       "      <td>1.0160</td>\n",
       "      <td>...</td>\n",
       "      <td>-0.57048</td>\n",
       "      <td>0.398160</td>\n",
       "      <td>0.296440</td>\n",
       "      <td>0.44622</td>\n",
       "      <td>-0.376030</td>\n",
       "      <td>0.40369</td>\n",
       "      <td>0.048205</td>\n",
       "      <td>0.129960</td>\n",
       "      <td>0.003736</td>\n",
       "      <td>-0.199620</td>\n",
       "    </tr>\n",
       "    <tr>\n",
       "      <th>dragon</th>\n",
       "      <td>-0.329310</td>\n",
       "      <td>-0.51365</td>\n",
       "      <td>-0.285020</td>\n",
       "      <td>-0.194470</td>\n",
       "      <td>-0.10735</td>\n",
       "      <td>0.105630</td>\n",
       "      <td>0.14797</td>\n",
       "      <td>0.27913</td>\n",
       "      <td>0.069221</td>\n",
       "      <td>0.7256</td>\n",
       "      <td>...</td>\n",
       "      <td>-0.36388</td>\n",
       "      <td>-0.069899</td>\n",
       "      <td>-0.343330</td>\n",
       "      <td>0.18140</td>\n",
       "      <td>0.082393</td>\n",
       "      <td>0.85123</td>\n",
       "      <td>-0.086035</td>\n",
       "      <td>0.795440</td>\n",
       "      <td>0.700320</td>\n",
       "      <td>-0.161140</td>\n",
       "    </tr>\n",
       "  </tbody>\n",
       "</table>\n",
       "<p>5 rows × 300 columns</p>\n",
       "</div>"
      ],
      "text/plain": [
       "               0        1         2         3        4         5        6  \\\n",
       "car     0.209870  0.46481 -0.242380 -0.065751  0.60856 -0.346980 -0.25331   \n",
       "truck   0.219160  0.33113  0.068603 -0.158140  0.47723  0.280000 -0.40688   \n",
       "suv    -0.068504  0.42310  0.329890 -0.419290  0.51394  0.097215  0.11566   \n",
       "elves  -0.526580 -0.63112 -0.962200 -0.232330 -0.38139 -0.024054  0.32924   \n",
       "dragon -0.329310 -0.51365 -0.285020 -0.194470 -0.10735  0.105630  0.14797   \n",
       "\n",
       "              7         8       9  ...      290       291       292      293  \\\n",
       "car    -0.42590 -0.222770  2.2913  ... -1.19240 -0.463950  0.669840 -0.49404   \n",
       "truck  -0.37803 -0.093286  1.9458  ... -0.64227 -0.906760  0.869490 -0.28303   \n",
       "suv    -0.10200 -0.194500 -0.3830  ... -0.52782 -0.576770 -0.043894 -1.07040   \n",
       "elves   0.31445 -0.587620  1.0160  ... -0.57048  0.398160  0.296440  0.44622   \n",
       "dragon  0.27913  0.069221  0.7256  ... -0.36388 -0.069899 -0.343330  0.18140   \n",
       "\n",
       "             294      295       296       297       298       299  \n",
       "car     0.441540 -0.43699  0.235380  0.321350  0.266490  0.224380  \n",
       "truck  -0.084425 -0.89242  0.129450  0.275580  0.073594 -0.029304  \n",
       "suv     0.207500 -0.72830 -0.131050  0.030543  0.349170 -0.418070  \n",
       "elves  -0.376030  0.40369  0.048205  0.129960  0.003736 -0.199620  \n",
       "dragon  0.082393  0.85123 -0.086035  0.795440  0.700320 -0.161140  \n",
       "\n",
       "[5 rows x 300 columns]"
      ]
     },
     "execution_count": 6,
     "metadata": {},
     "output_type": "execute_result"
    }
   ],
   "source": [
    "# Take a look at the df\n",
    "# Why 300? https://code.google.com/archive/p/word2vec/\n",
    "words_df.index=words\n",
    "words_df.head()"
   ]
  },
  {
   "cell_type": "markdown",
   "metadata": {},
   "source": [
    "Why do the 2 most popular neural models — Word2Vec and GloVe - consistently use 300-D word vectors?  \n",
    "* \"having a lower number of parameters leads to better generalization. It is found that 300-dimensional word embeddings perform much better than, say, 3000-dimensional ones.\" \n",
    "* https://medium.com/explorations-in-language-and-learning/understanding-word-vectors-f5f9e9fdef98"
   ]
  },
  {
   "cell_type": "code",
   "execution_count": 7,
   "metadata": {},
   "outputs": [
    {
     "name": "stdout",
     "output_type": "stream",
     "text": [
      "car\n"
     ]
    },
    {
     "data": {
      "text/plain": [
       "295   -0.43699\n",
       "296    0.23538\n",
       "297    0.32135\n",
       "298    0.26649\n",
       "299    0.22438\n",
       "Name: car, dtype: float64"
      ]
     },
     "execution_count": 7,
     "metadata": {},
     "output_type": "execute_result"
    }
   ],
   "source": [
    "# let's look at our first word and its 300D word vectors\n",
    "print(words[0])\n",
    "words_df.iloc[0].tail()"
   ]
  },
  {
   "cell_type": "code",
   "execution_count": 8,
   "metadata": {},
   "outputs": [],
   "source": [
    "# intialise the pca model \n",
    "pca = PCA(n_components=2)"
   ]
  },
  {
   "cell_type": "code",
   "execution_count": 9,
   "metadata": {},
   "outputs": [
    {
     "data": {
      "text/plain": [
       "PCA(copy=True, iterated_power='auto', n_components=2, random_state=None,\n",
       "    svd_solver='auto', tol=0.0, whiten=False)"
      ]
     },
     "execution_count": 9,
     "metadata": {},
     "output_type": "execute_result"
    }
   ],
   "source": [
    "# fit the pca model to our 300-dimensional data, this will work out which is the best \n",
    "# way to project the data down that will best maintain the relative distances \n",
    "# between data points. It will store these intructioons on how to transform the data.\n",
    "pca.fit(words_df)"
   ]
  },
  {
   "cell_type": "code",
   "execution_count": 10,
   "metadata": {},
   "outputs": [
    {
     "data": {
      "text/plain": [
       "10"
      ]
     },
     "execution_count": 10,
     "metadata": {},
     "output_type": "execute_result"
    }
   ],
   "source": [
    "# Tell our (fitted) pca model to transform our 300D data down onto 2D using the \n",
    "# instructions it learnt during the fit phase.\n",
    "word_vecs_2d = pca.transform(words_df)\n",
    "len(word_vecs_2d)"
   ]
  },
  {
   "cell_type": "code",
   "execution_count": 11,
   "metadata": {},
   "outputs": [
    {
     "name": "stdout",
     "output_type": "stream",
     "text": [
      "car\n"
     ]
    },
    {
     "data": {
      "text/plain": [
       "array([4.93139721, 0.24494976])"
      ]
     },
     "execution_count": 11,
     "metadata": {},
     "output_type": "execute_result"
    }
   ],
   "source": [
    "# let's take look at our first word and its new 2D word vectors\n",
    "print(words[0])\n",
    "word_vecs_2d[0]"
   ]
  },
  {
   "cell_type": "code",
   "execution_count": 12,
   "metadata": {},
   "outputs": [
    {
     "data": {
      "text/plain": [
       "[('car', array([4.93139721, 0.24494976])),\n",
       " ('truck', array([4.64322388, 0.23170959])),\n",
       " ('suv', array([ 4.39673752, -0.34916718])),\n",
       " ('elves', array([-2.22978217,  3.61092297])),\n",
       " ('dragon', array([-2.15291099,  2.26930613])),\n",
       " ('sword', array([-2.65302717,  2.91170629])),\n",
       " ('king', array([-2.67514765, -3.1117719 ])),\n",
       " ('queen', array([-2.2330468 , -3.38980118])),\n",
       " ('prince', array([-2.38870115, -1.77923695])),\n",
       " ('potato', array([ 0.36125732, -0.63861753]))]"
      ]
     },
     "execution_count": 12,
     "metadata": {},
     "output_type": "execute_result"
    }
   ],
   "source": [
    "# each word and vector pair are coordinates\n",
    "list(zip(words, word_vecs_2d))"
   ]
  },
  {
   "cell_type": "code",
   "execution_count": 13,
   "metadata": {},
   "outputs": [
    {
     "data": {
      "text/html": [
       "<div>\n",
       "<style scoped>\n",
       "    .dataframe tbody tr th:only-of-type {\n",
       "        vertical-align: middle;\n",
       "    }\n",
       "\n",
       "    .dataframe tbody tr th {\n",
       "        vertical-align: top;\n",
       "    }\n",
       "\n",
       "    .dataframe thead th {\n",
       "        text-align: right;\n",
       "    }\n",
       "</style>\n",
       "<table border=\"1\" class=\"dataframe\">\n",
       "  <thead>\n",
       "    <tr style=\"text-align: right;\">\n",
       "      <th></th>\n",
       "      <th>x</th>\n",
       "      <th>y</th>\n",
       "    </tr>\n",
       "  </thead>\n",
       "  <tbody>\n",
       "    <tr>\n",
       "      <th>car</th>\n",
       "      <td>4.931397</td>\n",
       "      <td>0.244950</td>\n",
       "    </tr>\n",
       "    <tr>\n",
       "      <th>truck</th>\n",
       "      <td>4.643224</td>\n",
       "      <td>0.231710</td>\n",
       "    </tr>\n",
       "    <tr>\n",
       "      <th>suv</th>\n",
       "      <td>4.396738</td>\n",
       "      <td>-0.349167</td>\n",
       "    </tr>\n",
       "    <tr>\n",
       "      <th>elves</th>\n",
       "      <td>-2.229782</td>\n",
       "      <td>3.610923</td>\n",
       "    </tr>\n",
       "    <tr>\n",
       "      <th>dragon</th>\n",
       "      <td>-2.152911</td>\n",
       "      <td>2.269306</td>\n",
       "    </tr>\n",
       "    <tr>\n",
       "      <th>sword</th>\n",
       "      <td>-2.653027</td>\n",
       "      <td>2.911706</td>\n",
       "    </tr>\n",
       "    <tr>\n",
       "      <th>king</th>\n",
       "      <td>-2.675148</td>\n",
       "      <td>-3.111772</td>\n",
       "    </tr>\n",
       "    <tr>\n",
       "      <th>queen</th>\n",
       "      <td>-2.233047</td>\n",
       "      <td>-3.389801</td>\n",
       "    </tr>\n",
       "    <tr>\n",
       "      <th>prince</th>\n",
       "      <td>-2.388701</td>\n",
       "      <td>-1.779237</td>\n",
       "    </tr>\n",
       "    <tr>\n",
       "      <th>potato</th>\n",
       "      <td>0.361257</td>\n",
       "      <td>-0.638618</td>\n",
       "    </tr>\n",
       "  </tbody>\n",
       "</table>\n",
       "</div>"
      ],
      "text/plain": [
       "               x         y\n",
       "car     4.931397  0.244950\n",
       "truck   4.643224  0.231710\n",
       "suv     4.396738 -0.349167\n",
       "elves  -2.229782  3.610923\n",
       "dragon -2.152911  2.269306\n",
       "sword  -2.653027  2.911706\n",
       "king   -2.675148 -3.111772\n",
       "queen  -2.233047 -3.389801\n",
       "prince -2.388701 -1.779237\n",
       "potato  0.361257 -0.638618"
      ]
     },
     "execution_count": 13,
     "metadata": {},
     "output_type": "execute_result"
    }
   ],
   "source": [
    "# Make that into a dataframe\n",
    "df_2dim=pd.DataFrame(word_vecs_2d, columns=['x', 'y'])\n",
    "df_2dim.index=words\n",
    "df_2dim"
   ]
  },
  {
   "cell_type": "code",
   "execution_count": 18,
   "metadata": {},
   "outputs": [
    {
     "data": {
      "image/png": "[encoded data removed]",
      "text/plain": [
       "<Figure size 720x360 with 1 Axes>"
      ]
     },
     "metadata": {
      "needs_background": "light"
     },
     "output_type": "display_data"
    }
   ],
   "source": [
    "# create a  plot \n",
    "plt.figure(figsize=(10,5))\n",
    "\n",
    "plt.scatter(word_vecs_2d[:,0], word_vecs_2d[:,1], s=1000, alpha=.2)\n",
    "\n",
    "for word, coord in zip(words, word_vecs_2d):\n",
    "    x, y = coord\n",
    "    plt.text(x, y, word, size=10)\n",
    "    \n",
    "plt.show()"
   ]
  },
  {
   "cell_type": "markdown",
   "metadata": {},
   "source": [
    "### Plotly graph  \n",
    "* Plotly website: https://plot.ly/python/\n",
    "* Plotly Forum: https://community.plot.ly/\n",
    "* Github repository: https://github.com/austinlasseter/plotly_dash_tutorial\n"
   ]
  },
  {
   "cell_type": "code",
   "execution_count": null,
   "metadata": {},
   "outputs": [],
   "source": [
    "import plotly\n",
    "import plotly.graph_objs as go\n",
    "from plotly.offline import init_notebook_mode, plot, iplot"
   ]
  },
  {
   "cell_type": "code",
   "execution_count": null,
   "metadata": {},
   "outputs": [],
   "source": [
    "# for colab notebooks:\n",
    "def enable_plotly_in_cell():\n",
    "    import IPython\n",
    "    from plotly.offline import init_notebook_mode\n",
    "    display(IPython.core.display.HTML('''<script src=\"/static/components/requirejs/require.js\"></script>'''))\n",
    "    init_notebook_mode(connected=False)"
   ]
  },
  {
   "cell_type": "code",
   "execution_count": null,
   "metadata": {},
   "outputs": [],
   "source": [
    "# then run in each cell that you want to use plotly:\n",
    "enable_plotly_in_cell()\n"
   ]
  },
  {
   "cell_type": "code",
   "execution_count": null,
   "metadata": {},
   "outputs": [],
   "source": [
    "# for each word and coordinate pair: draw the text on the plot\n",
    "x_values=df_2dim['x']\n",
    "y_values=df_2dim['y']"
   ]
  },
  {
   "cell_type": "code",
   "execution_count": null,
   "metadata": {},
   "outputs": [],
   "source": [
    "# now with plotly create a dictionary of values using the 'go.Scatter' class\n",
    "mydata = go.Scatter(x = x_values, y=y_values, mode='markers', hovertext=words)"
   ]
  },
  {
   "cell_type": "code",
   "execution_count": null,
   "metadata": {},
   "outputs": [],
   "source": [
    "enable_plotly_in_cell() # don't forget to include this! It's just for colab notebooks.\n",
    "# wrap that dictionary into a list and display using 'go.Figure' class\n",
    "myfigure=go.Figure([mydata])\n",
    "myfigure.show()"
   ]
  },
  {
   "cell_type": "markdown",
   "metadata": {},
   "source": [
    "### 3 dimensions"
   ]
  },
  {
   "cell_type": "code",
   "execution_count": null,
   "metadata": {},
   "outputs": [],
   "source": [
    "# intialise pca model for 3 dimensions\n",
    "pca = PCA(n_components=3)"
   ]
  },
  {
   "cell_type": "code",
   "execution_count": null,
   "metadata": {},
   "outputs": [],
   "source": [
    "# fit the pca model to our 300-dimensional data\n",
    "pca.fit(words_df)"
   ]
  },
  {
   "cell_type": "code",
   "execution_count": null,
   "metadata": {},
   "outputs": [],
   "source": [
    "# Tell our (fitted) pca model to transform our 300D data down onto 2D using the \n",
    "# instructions it learnt during the fit phase.\n",
    "word_vecs_3d = pca.transform(words_df)\n",
    "len(word_vecs_3d)"
   ]
  },
  {
   "cell_type": "code",
   "execution_count": null,
   "metadata": {},
   "outputs": [],
   "source": [
    "# let's look at our first word and its new 3D word vectors\n",
    "print(words[0])\n",
    "word_vecs_3d[0]"
   ]
  },
  {
   "cell_type": "code",
   "execution_count": null,
   "metadata": {},
   "outputs": [],
   "source": [
    "# each word and vector pair are coordinates\n",
    "list(zip(words, word_vecs_3d))"
   ]
  },
  {
   "cell_type": "code",
   "execution_count": null,
   "metadata": {},
   "outputs": [],
   "source": [
    "# convert to a 3D dataframe\n",
    "df_3dim=pd.DataFrame(word_vecs_3d, columns=['x', 'y', 'z'])\n",
    "df_3dim.index=words\n",
    "df_3dim"
   ]
  },
  {
   "cell_type": "code",
   "execution_count": null,
   "metadata": {},
   "outputs": [],
   "source": [
    "# for each word and coordinate pair: \n",
    "x_values=df_3dim['x']\n",
    "y_values=df_3dim['y']\n",
    "z_values=df_3dim['z']"
   ]
  },
  {
   "cell_type": "code",
   "execution_count": null,
   "metadata": {},
   "outputs": [],
   "source": [
    "# now with plotly create a dictionary of values using the 'go.Scatter' class\n",
    "mydata = go.Scatter3d(x = x_values, \n",
    "                      y = y_values, \n",
    "                      z = z_values, \n",
    "                      mode='markers', \n",
    "                      hovertext=words,\n",
    "                      marker=dict(\n",
    "                            size=12,\n",
    "                            color=z_values,                # set color to an array/list of desired values\n",
    "                            colorscale='Viridis',   # choose a colorscale\n",
    "                            opacity=0.8\n",
    "                        )\n",
    "                     )"
   ]
  },
  {
   "cell_type": "code",
   "execution_count": null,
   "metadata": {},
   "outputs": [],
   "source": [
    "enable_plotly_in_cell() # don't forget to include this! It's just for colab notebooks.\n",
    "# wrap that dictionary into a list and display using 'go.Figure' class\n",
    "myfigure=go.Figure([mydata])\n",
    "myfigure.show()"
   ]
  },
  {
   "cell_type": "code",
   "execution_count": null,
   "metadata": {},
   "outputs": [],
   "source": []
  },
  {
   "cell_type": "markdown",
   "metadata": {
    "colab_type": "text",
    "id": "W0-g7aprRv2j"
   },
   "source": [
    "### 1. Vertical Line Test"
   ]
  },
  {
   "cell_type": "markdown",
   "metadata": {
    "colab": {},
    "colab_type": "code",
    "id": "fIJhCtF6RW_U"
   },
   "source": [
    "Create two graphs, one that passes the vertical line test and one that does not."
   ]
  },
  {
   "cell_type": "code",
   "execution_count": 1,
   "metadata": {},
   "outputs": [],
   "source": [
    "# imports\n",
    "import pandas as pd\n",
    "import numpy as np\n",
    "import matplotlib.pyplot as plt\n",
    "import math\n",
    "plt.rcParams.update({'font.size': 14})"
   ]
  },
  {
   "cell_type": "code",
   "execution_count": 2,
   "metadata": {},
   "outputs": [
    {
     "data": {
      "image/png": "[encoded data removed]",
      "text/plain": [
       "<Figure size 432x288 with 1 Axes>"
      ]
     },
     "metadata": {
      "needs_background": "light"
     },
     "output_type": "display_data"
    }
   ],
   "source": [
    "# plot a line that passes the vertical line test\n",
    "x = np.arange(-10, 11)\n",
    "y = x**3 + 2*x\n",
    "plt.plot(x, y)  \n",
    "plt.axvline(x=0, color='r');"
   ]
  },
  {
   "cell_type": "code",
   "execution_count": 3,
   "metadata": {},
   "outputs": [
    {
     "data": {
      "image/png": "[encoded data removed]",
      "text/plain": [
       "<Figure size 432x288 with 1 Axes>"
      ]
     },
     "metadata": {
      "needs_background": "light"
     },
     "output_type": "display_data"
    }
   ],
   "source": [
    "# plot a line that doesn't pass the vertical line test\n",
    "y = np.arange(-10, 11)\n",
    "x = y**4 + 2*y\n",
    "plt.plot(x, y)  \n",
    "plt.axvline(x=2000, color='r');"
   ]
  },
  {
   "cell_type": "code",
   "execution_count": 2,
   "metadata": {},
   "outputs": [
    {
     "data": {
      "image/png": "[encoded data removed]",
      "text/plain": [
       "<Figure size 432x288 with 1 Axes>"
      ]
     },
     "metadata": {
      "needs_background": "light"
     },
     "output_type": "display_data"
    }
   ],
   "source": [
    "# plot a line that doesn't pass the vertical line test\n",
    "theta = np.arange(0, 8 * np.pi, 0.1)\n",
    "x = np.cos(theta) * np.exp(0.2 * theta)\n",
    "y = np.sin(theta) * np.exp(0.2 * theta)\n",
    "plt.plot(x, y)\n",
    "plt.axvline(x=0, color='red')\n",
    "plt.show()\n",
    "# Shout-out to Robert Sharp for helping me refactor this code!"
   ]
  },
  {
   "cell_type": "markdown",
   "metadata": {
    "colab_type": "text",
    "id": "ckeTKqMgRy7g"
   },
   "source": [
    "Why are graphs that don't pass the vertical line test not considered \"functions?\""
   ]
  },
  {
   "cell_type": "code",
   "execution_count": 5,
   "metadata": {},
   "outputs": [],
   "source": [
    "# A function cannot have the same input \n",
    "# (x value/domain value) mapped to multiple outputs\n",
    "# (y value/co-domain value)."
   ]
  },
  {
   "cell_type": "markdown",
   "metadata": {
    "colab_type": "text",
    "id": "g21uN62xSKSk"
   },
   "source": [
    "### 2. Functions as Relations"
   ]
  },
  {
   "cell_type": "code",
   "execution_count": 20,
   "metadata": {},
   "outputs": [
    {
     "data": {
      "image/png": "[encoded data removed]",
      "text/plain": [
       "<Figure size 432x288 with 1 Axes>"
      ]
     },
     "metadata": {
      "needs_background": "light"
     },
     "output_type": "display_data"
    }
   ],
   "source": [
    "# plot the function f(x) = 2x + 3\n",
    "x = np.arange(-2, 2)\n",
    "y = 2*x + 3\n",
    "plt.plot(y)\n",
    "plt.axvline(x=1.5, color='red')\n",
    "plt.show()"
   ]
  },
  {
   "cell_type": "code",
   "execution_count": 21,
   "metadata": {},
   "outputs": [
    {
     "data": {
      "image/png": "[encoded data removed]",
      "text/plain": [
       "<Figure size 432x288 with 1 Axes>"
      ]
     },
     "metadata": {
      "needs_background": "light"
     },
     "output_type": "display_data"
    }
   ],
   "source": [
    "# Relation 0:\n",
    "# (-2, -1), (-1, 1), (0, 3), (1 ,5), (2 ,7)\n",
    "x = np.array([-2, -1, 0, 1, 2])\n",
    "y = np.array([-1, 1, 3, 5, 7])\n",
    "plt.scatter(x, y, s=100)\n",
    "plt.plot(x, y, color='g')\n",
    "plt.axvline(x=0, color='red');"
   ]
  },
  {
   "cell_type": "code",
   "execution_count": 23,
   "metadata": {},
   "outputs": [
    {
     "data": {
      "image/png": "[encoded data removed]",
      "text/plain": [
       "<Figure size 432x288 with 1 Axes>"
      ]
     },
     "metadata": {
      "needs_background": "light"
     },
     "output_type": "display_data"
    }
   ],
   "source": [
    "# Relation 1: (-2, -1), (-2, 1), (2, 3)\n",
    "x = np.array([-2, -2, 2])\n",
    "y = np.array([-1, 1, 3])\n",
    "plt.scatter(x, y, s=100)\n",
    "plt.plot(x,y, color='g')\n",
    "plt.axvline(x=1.5, color='red');"
   ]
  },
  {
   "cell_type": "code",
   "execution_count": 26,
   "metadata": {},
   "outputs": [
    {
     "data": {
      "image/png": "[encoded data removed]",
      "text/plain": [
       "<Figure size 432x288 with 1 Axes>"
      ]
     },
     "metadata": {
      "needs_background": "light"
     },
     "output_type": "display_data"
    }
   ],
   "source": [
    "# Relation 2: (-2, 5), (-1, 5), (0, 5)\n",
    "# no two different y values mapped to same x value!\n",
    "x = np.array([-2, -1, 0])\n",
    "y = np.array([5, 5, 5])\n",
    "plt.scatter(x, y, s=100)\n",
    "plt.plot(x,y, color='g')\n",
    "plt.axvline(x=-1, color='red');"
   ]
  },
  {
   "cell_type": "code",
   "execution_count": 27,
   "metadata": {},
   "outputs": [
    {
     "data": {
      "image/png": "[encoded data removed]",
      "text/plain": [
       "<Figure size 432x288 with 1 Axes>"
      ]
     },
     "metadata": {
      "needs_background": "light"
     },
     "output_type": "display_data"
    }
   ],
   "source": [
    "# Relation 3: (0, -1), (-1, 1), (0, 3)\n",
    "x = np.array([0, -1, 0])\n",
    "y = np.array([-1, 1, 3])\n",
    "plt.scatter(x, y, s=100)\n",
    "plt.plot(x,y, color='g')\n",
    "plt.axvline(x=-.4, color='red');"
   ]
  },
  {
   "cell_type": "markdown",
   "metadata": {
    "colab_type": "text",
    "id": "y0U30PrlTAAa"
   },
   "source": [
    "### 3. Functions as a mapping between dimensions"
   ]
  },
  {
   "cell_type": "code",
   "execution_count": 29,
   "metadata": {},
   "outputs": [
    {
     "name": "stdout",
     "output_type": "stream",
     "text": [
      "input is 2 dimensions, output is 1 dimension\n",
      "[6, 8, 10, 12]\n"
     ]
    },
    {
     "data": {
      "image/png": "[encoded data removed]",
      "text/plain": [
       "<Figure size 432x288 with 1 Axes>"
      ]
     },
     "metadata": {
      "needs_background": "light"
     },
     "output_type": "display_data"
    }
   ],
   "source": [
    "# plot the function g(a1, a2) = a1 + x2\n",
    "\n",
    "def g(z):\n",
    "    '''\n",
    "    input is a tuple with exactly 2 elements\n",
    "    output is a single integer \n",
    "    '''\n",
    "    return z[0] + z[1]\n"
   ]
  },
  {
   "cell_type": "code",
   "execution_count": null,
   "metadata": {},
   "outputs": [],
   "source": [
    "# what is the dimensionality of the domain (input)?\n",
    "# and codomain (range/output)?\n",
    "print('input is 2 dimensions, output is 1 dimension')\n"
   ]
  },
  {
   "cell_type": "code",
   "execution_count": null,
   "metadata": {},
   "outputs": [],
   "source": [
    "# Plot this function with example data:\n",
    "x=[2,2,2,2]\n",
    "y=[]\n",
    "for point in [(2,4), (3,5), (4,6), (5,7)]:\n",
    "    plt.scatter(x=point[0], y=point[1], c='r');\n",
    "    y.append(g(point))\n",
    "\n",
    "print(y)\n",
    "plt.scatter(x, y);"
   ]
  },
  {
   "cell_type": "code",
   "execution_count": 12,
   "metadata": {},
   "outputs": [
    {
     "name": "stdout",
     "output_type": "stream",
     "text": [
      "[22, 32, 42] [25, 30, 35]\n"
     ]
    },
    {
     "data": {
      "image/png": "[encoded data removed]",
      "text/plain": [
       "<Figure size 432x288 with 1 Axes>"
      ]
     },
     "metadata": {
      "needs_background": "light"
     },
     "output_type": "display_data"
    }
   ],
   "source": [
    "# plot the function h(z1, z2, z3) = (z1 + 2, z2-z3)\n",
    "\n",
    "def h(z):\n",
    "    return z[0] + 2, z[1]-z[2]\n",
    "x=[]\n",
    "y=[]\n",
    "for point in [(20,30,5), (30,40,10), (40,50,15)]:\n",
    "    plt.scatter(x=point[0], \n",
    "                y=point[1], \n",
    "                s=point[2]**3, \n",
    "                c='r');\n",
    "    x.append(h(point)[0])\n",
    "    y.append(h(point)[1])\n",
    "\n",
    "print(x, y)\n",
    "plt.scatter(x,y, s=100);"
   ]
  },
  {
   "cell_type": "markdown",
   "metadata": {
    "colab_type": "text",
    "id": "2nEWvwVyVWdW"
   },
   "source": [
    "### 4. Vector Transformations"
   ]
  },
  {
   "cell_type": "code",
   "execution_count": 13,
   "metadata": {},
   "outputs": [],
   "source": [
    "# write a function to imitate the lecture notebook:\n",
    "def f(vect):\n",
    "    x1=vect[0][0]\n",
    "    x2=vect[1][0]\n",
    "    row1 = np.array([2*x1 + x2])\n",
    "    row2 = np.array([-3*x2 + x1])\n",
    "    output_vector=np.array([row1, row2])\n",
    "    return output_vector"
   ]
  },
  {
   "cell_type": "code",
   "execution_count": 14,
   "metadata": {},
   "outputs": [
    {
     "data": {
      "text/plain": [
       "array([[2],\n",
       "       [1]])"
      ]
     },
     "execution_count": 14,
     "metadata": {},
     "output_type": "execute_result"
    }
   ],
   "source": [
    "# Apply f to x-axis unit vector \n",
    "i_hat=np.array([[1],[0]])\n",
    "a=f(i_hat)\n",
    "a"
   ]
  },
  {
   "cell_type": "code",
   "execution_count": 15,
   "metadata": {},
   "outputs": [
    {
     "data": {
      "text/plain": [
       "array([[ 1],\n",
       "       [-3]])"
      ]
     },
     "execution_count": 15,
     "metadata": {},
     "output_type": "execute_result"
    }
   ],
   "source": [
    "# Apply f to y-axis unit vector\n",
    "j_hat=np.array([[0],[1]])\n",
    "b=f(j_hat)\n",
    "b"
   ]
  },
  {
   "cell_type": "code",
   "execution_count": 16,
   "metadata": {},
   "outputs": [
    {
     "data": {
      "text/plain": [
       "array([[ 2,  1],\n",
       "       [ 1, -3]])"
      ]
     },
     "execution_count": 16,
     "metadata": {},
     "output_type": "execute_result"
    }
   ],
   "source": [
    "# Turn those into a matrix \n",
    "# (notice this cool np trick for combining column vectors)\n",
    "T = np.column_stack([a,b])\n",
    "T"
   ]
  },
  {
   "cell_type": "code",
   "execution_count": 17,
   "metadata": {},
   "outputs": [
    {
     "data": {
      "text/html": [
       "<div>\n",
       "<style scoped>\n",
       "    .dataframe tbody tr th:only-of-type {\n",
       "        vertical-align: middle;\n",
       "    }\n",
       "\n",
       "    .dataframe tbody tr th {\n",
       "        vertical-align: top;\n",
       "    }\n",
       "\n",
       "    .dataframe thead th {\n",
       "        text-align: right;\n",
       "    }\n",
       "</style>\n",
       "<table border=\"1\" class=\"dataframe\">\n",
       "  <thead>\n",
       "    <tr style=\"text-align: right;\">\n",
       "      <th></th>\n",
       "      <th>0</th>\n",
       "      <th>1</th>\n",
       "    </tr>\n",
       "  </thead>\n",
       "  <tbody>\n",
       "    <tr>\n",
       "      <th>0</th>\n",
       "      <td>2</td>\n",
       "      <td>1</td>\n",
       "    </tr>\n",
       "    <tr>\n",
       "      <th>1</th>\n",
       "      <td>1</td>\n",
       "      <td>-3</td>\n",
       "    </tr>\n",
       "  </tbody>\n",
       "</table>\n",
       "</div>"
      ],
      "text/plain": [
       "   0  1\n",
       "0  2  1\n",
       "1  1 -3"
      ]
     },
     "execution_count": 17,
     "metadata": {},
     "output_type": "execute_result"
    }
   ],
   "source": [
    "# Turn those into a dataframe, for comparison\n",
    "pd.DataFrame(T)"
   ]
  },
  {
   "cell_type": "code",
   "execution_count": 18,
   "metadata": {},
   "outputs": [
    {
     "data": {
      "text/plain": [
       "array([[10],\n",
       "       [-9]])"
      ]
     },
     "execution_count": 18,
     "metadata": {},
     "output_type": "execute_result"
    }
   ],
   "source": [
    "# use the original function again\n",
    "input_vector=np.array([[3],[4]])\n",
    "f(input_vector)"
   ]
  },
  {
   "cell_type": "code",
   "execution_count": 19,
   "metadata": {},
   "outputs": [
    {
     "data": {
      "text/plain": [
       "array([[10],\n",
       "       [-9]])"
      ]
     },
     "execution_count": 19,
     "metadata": {},
     "output_type": "execute_result"
    }
   ],
   "source": [
    "# Now lets do it via matrix multiplication (ie, by hand).\n",
    "# Do we get the same answer?\n",
    "output_vector=np.matmul(T, input_vector)\n",
    "output_vector"
   ]
  },
  {
   "cell_type": "code",
   "execution_count": 20,
   "metadata": {},
   "outputs": [
    {
     "data": {
      "image/png": "[encoded data removed]",
      "text/plain": [
       "<Figure size 432x288 with 1 Axes>"
      ]
     },
     "metadata": {
      "needs_background": "light"
     },
     "output_type": "display_data"
    }
   ],
   "source": [
    "# Display that transformation visually.\n",
    "plt.arrow(0,0, input_vector[0][0], input_vector[1][0],head_width=.5, head_length=0.5, color ='red')\n",
    "plt.arrow(0,0, output_vector[0][0], output_vector[1][0],head_width=.5, head_length=0.5, color ='blue')\n",
    "plt.xlim(0,11)          \n",
    "plt.ylim(-10,5);\n",
    "plt.title('f(2*x1+x2, −3*x2+x1)');"
   ]
  },
  {
   "cell_type": "code",
   "execution_count": 21,
   "metadata": {},
   "outputs": [
    {
     "name": "stdout",
     "output_type": "stream",
     "text": [
      "We can describe our function f as the product of any vector and T\n"
     ]
    }
   ],
   "source": [
    "# What exactly is the take-away from all of this?\n",
    "print('We can describe our function f as the product of any vector and T')"
   ]
  },
  {
   "cell_type": "code",
   "execution_count": 22,
   "metadata": {},
   "outputs": [
    {
     "name": "stdout",
     "output_type": "stream",
     "text": [
      "We can describe any linear transformation as matrix vector multiplication.\n"
     ]
    }
   ],
   "source": [
    "# Wait. what?\n",
    "print('We can describe any linear transformation as matrix vector multiplication.')"
   ]
  },
  {
   "cell_type": "markdown",
   "metadata": {
    "colab_type": "text",
    "id": "vEoiri3mak7j"
   },
   "source": [
    "### 5. Eigenvalues and Eigenvectors"
   ]
  },
  {
   "cell_type": "code",
   "execution_count": 23,
   "metadata": {},
   "outputs": [
    {
     "data": {
      "text/plain": [
       "array([[-1,  3, -1],\n",
       "       [-3,  5, -1],\n",
       "       [-3,  3,  1]])"
      ]
     },
     "execution_count": 23,
     "metadata": {},
     "output_type": "execute_result"
    }
   ],
   "source": [
    "# Suppose we have a linear transformation (matrix T).\n",
    "T = np.array([[-1, 3, -1], [-3,5,-1], [-3,3,1]])\n",
    "T"
   ]
  },
  {
   "cell_type": "code",
   "execution_count": 24,
   "metadata": {},
   "outputs": [],
   "source": [
    "# The numpy 'eig' function returns a tuple of two values.\n",
    "w, v = np.linalg.eig(T)"
   ]
  },
  {
   "cell_type": "code",
   "execution_count": 25,
   "metadata": {},
   "outputs": [
    {
     "name": "stdout",
     "output_type": "stream",
     "text": [
      "evalues:\n"
     ]
    },
    {
     "data": {
      "text/plain": [
       "array([1., 2., 2.])"
      ]
     },
     "execution_count": 25,
     "metadata": {},
     "output_type": "execute_result"
    }
   ],
   "source": [
    "# Tuple[0] contains the eigenvalues (one for each column).\n",
    "print('evalues:')\n",
    "w"
   ]
  },
  {
   "cell_type": "code",
   "execution_count": 26,
   "metadata": {},
   "outputs": [
    {
     "name": "stdout",
     "output_type": "stream",
     "text": [
      "eigenvectors:\n",
      "[[-0.57735027 -0.10893917 -0.52206272]\n",
      " [-0.57735027  0.21459692 -0.68943695]\n",
      " [-0.57735027  0.97060827 -0.50212269]]\n"
     ]
    }
   ],
   "source": [
    "#  Tuple[1] contains the corresponding eigenvectors, as columns. \n",
    "print('eigenvectors:')\n",
    "print(v)"
   ]
  },
  {
   "cell_type": "code",
   "execution_count": 27,
   "metadata": {},
   "outputs": [
    {
     "name": "stdout",
     "output_type": "stream",
     "text": [
      "[-0.57735027 -0.57735027 -0.57735027]\n",
      "1.0000000000000022\n"
     ]
    }
   ],
   "source": [
    "# To get the first eigenvector and its eigenvalue:\n",
    "evector_0 = v[:,0]\n",
    "evalue_0=w[0]\n",
    "print(evector_0)\n",
    "print(evalue_0)"
   ]
  },
  {
   "cell_type": "code",
   "execution_count": 28,
   "metadata": {},
   "outputs": [
    {
     "data": {
      "text/plain": [
       "array([-0.57735027, -0.57735027, -0.57735027])"
      ]
     },
     "execution_count": 28,
     "metadata": {},
     "output_type": "execute_result"
    }
   ],
   "source": [
    "# Dot product of matrix and first eigenvector:\n",
    "np.dot(T, evector_0)"
   ]
  },
  {
   "cell_type": "code",
   "execution_count": 29,
   "metadata": {},
   "outputs": [
    {
     "data": {
      "text/plain": [
       "array([-0.57735027, -0.57735027, -0.57735027])"
      ]
     },
     "execution_count": 29,
     "metadata": {},
     "output_type": "execute_result"
    }
   ],
   "source": [
    "# Same as multiplying first eigenvalue and eigenvector:\n",
    "evalue_0*evector_0"
   ]
  },
  {
   "cell_type": "code",
   "execution_count": 30,
   "metadata": {},
   "outputs": [
    {
     "data": {
      "text/plain": [
       "array([[1., 0., 0.],\n",
       "       [0., 2., 0.],\n",
       "       [0., 0., 2.]])"
      ]
     },
     "execution_count": 30,
     "metadata": {},
     "output_type": "execute_result"
    }
   ],
   "source": [
    "# Create a new matrix, with the eigenvalaues on the diagonal.\n",
    "D=np.diag(w)\n",
    "D"
   ]
  },
  {
   "cell_type": "code",
   "execution_count": 31,
   "metadata": {},
   "outputs": [
    {
     "name": "stdout",
     "output_type": "stream",
     "text": [
      "Eigenvalues and eigenvectors can be used to decompose any square matrix by diagonalizing it.\n"
     ]
    }
   ],
   "source": [
    "# Why is this important?\n",
    "print('Eigenvalues and eigenvectors can be used to decompose any square matrix by diagonalizing it.')"
   ]
  },
  {
   "cell_type": "code",
   "execution_count": 32,
   "metadata": {},
   "outputs": [
    {
     "name": "stdout",
     "output_type": "stream",
     "text": [
      "[[3 2 2]\n",
      " [3 3 1]\n",
      " [4 3 2]]\n",
      "[[ 7.44465898  0.          0.        ]\n",
      " [ 0.         -0.18213967  0.        ]\n",
      " [ 0.          0.          0.73748068]]\n"
     ]
    }
   ],
   "source": [
    "# Okay, do this for any matrix.\n",
    "P = np.random.randint(1,5,(3,3))\n",
    "w, v = np.linalg.eig(P)\n",
    "D=np.diag(w)\n",
    "print(P)\n",
    "print(D)"
   ]
  },
  {
   "cell_type": "markdown",
   "metadata": {},
   "source": [
    "More info [here](https://www.math.ubc.ca/~pwalls/math-python/linear-algebra/eigenvalues-eigenvectors) about how to use eigenvalues to diagonalize a matrix."
   ]
  },
  {
   "cell_type": "markdown",
   "metadata": {
    "colab_type": "text",
    "id": "VdehMwBtatKI"
   },
   "source": [
    "### 6. The Curse of Dimensionality"
   ]
  },
  {
   "cell_type": "code",
   "execution_count": 33,
   "metadata": {},
   "outputs": [
    {
     "name": "stdout",
     "output_type": "stream",
     "text": [
      "When your data has too many features.\n"
     ]
    }
   ],
   "source": [
    "# What is the curse of dimensionality?\n",
    "print('When your data has too many features.')"
   ]
  },
  {
   "cell_type": "code",
   "execution_count": 34,
   "metadata": {},
   "outputs": [],
   "source": [
    "# Make a dataframe of 50 points\n",
    "df = pd.DataFrame({'x':np.random.randint(0, 100, 50)})"
   ]
  },
  {
   "cell_type": "code",
   "execution_count": 35,
   "metadata": {},
   "outputs": [
    {
     "data": {
      "image/png": "[encoded data removed]",
      "text/plain": [
       "<Figure size 576x72 with 1 Axes>"
      ]
     },
     "metadata": {
      "needs_background": "light"
     },
     "output_type": "display_data"
    }
   ],
   "source": [
    "# Plot the floats on a one-dimensional number line\n",
    "fig, ax = plt.subplots(figsize=(8,1))\n",
    "ax.grid()\n",
    "ax.set_yticklabels([])\n",
    "plt.scatter(df['x'], np.zeros(50), s=100, alpha=0.5);"
   ]
  },
  {
   "cell_type": "code",
   "execution_count": 36,
   "metadata": {},
   "outputs": [
    {
     "data": {
      "text/html": [
       "<div>\n",
       "<style scoped>\n",
       "    .dataframe tbody tr th:only-of-type {\n",
       "        vertical-align: middle;\n",
       "    }\n",
       "\n",
       "    .dataframe tbody tr th {\n",
       "        vertical-align: top;\n",
       "    }\n",
       "\n",
       "    .dataframe thead th {\n",
       "        text-align: right;\n",
       "    }\n",
       "</style>\n",
       "<table border=\"1\" class=\"dataframe\">\n",
       "  <thead>\n",
       "    <tr style=\"text-align: right;\">\n",
       "      <th></th>\n",
       "      <th>x</th>\n",
       "      <th>y</th>\n",
       "    </tr>\n",
       "  </thead>\n",
       "  <tbody>\n",
       "    <tr>\n",
       "      <th>0</th>\n",
       "      <td>68</td>\n",
       "      <td>33</td>\n",
       "    </tr>\n",
       "    <tr>\n",
       "      <th>1</th>\n",
       "      <td>61</td>\n",
       "      <td>92</td>\n",
       "    </tr>\n",
       "    <tr>\n",
       "      <th>2</th>\n",
       "      <td>53</td>\n",
       "      <td>43</td>\n",
       "    </tr>\n",
       "    <tr>\n",
       "      <th>3</th>\n",
       "      <td>49</td>\n",
       "      <td>72</td>\n",
       "    </tr>\n",
       "    <tr>\n",
       "      <th>4</th>\n",
       "      <td>69</td>\n",
       "      <td>76</td>\n",
       "    </tr>\n",
       "  </tbody>\n",
       "</table>\n",
       "</div>"
      ],
      "text/plain": [
       "    x   y\n",
       "0  68  33\n",
       "1  61  92\n",
       "2  53  43\n",
       "3  49  72\n",
       "4  69  76"
      ]
     },
     "execution_count": 36,
     "metadata": {},
     "output_type": "execute_result"
    }
   ],
   "source": [
    "# Add a y column\n",
    "df['y'] = pd.DataFrame({'x':np.random.randint(0, 100, 50)})\n",
    "df.head()"
   ]
  },
  {
   "cell_type": "code",
   "execution_count": 37,
   "metadata": {},
   "outputs": [
    {
     "data": {
      "image/png": "[encoded data removed]",
      "text/plain": [
       "<Figure size 432x288 with 1 Axes>"
      ]
     },
     "metadata": {
      "needs_background": "light"
     },
     "output_type": "display_data"
    }
   ],
   "source": [
    "# Graph 2D data on a 2D plot\n",
    "plt.scatter(df['x'], df['y'], alpha=0.5, s=200)\n",
    "plt.title(\"A Better Use of a 2D Graph\");"
   ]
  },
  {
   "cell_type": "code",
   "execution_count": 38,
   "metadata": {},
   "outputs": [
    {
     "data": {
      "text/html": [
       "<div>\n",
       "<style scoped>\n",
       "    .dataframe tbody tr th:only-of-type {\n",
       "        vertical-align: middle;\n",
       "    }\n",
       "\n",
       "    .dataframe tbody tr th {\n",
       "        vertical-align: top;\n",
       "    }\n",
       "\n",
       "    .dataframe thead th {\n",
       "        text-align: right;\n",
       "    }\n",
       "</style>\n",
       "<table border=\"1\" class=\"dataframe\">\n",
       "  <thead>\n",
       "    <tr style=\"text-align: right;\">\n",
       "      <th></th>\n",
       "      <th>x</th>\n",
       "      <th>y</th>\n",
       "      <th>z</th>\n",
       "    </tr>\n",
       "  </thead>\n",
       "  <tbody>\n",
       "    <tr>\n",
       "      <th>0</th>\n",
       "      <td>68</td>\n",
       "      <td>33</td>\n",
       "      <td>43</td>\n",
       "    </tr>\n",
       "    <tr>\n",
       "      <th>1</th>\n",
       "      <td>61</td>\n",
       "      <td>92</td>\n",
       "      <td>58</td>\n",
       "    </tr>\n",
       "    <tr>\n",
       "      <th>2</th>\n",
       "      <td>53</td>\n",
       "      <td>43</td>\n",
       "      <td>57</td>\n",
       "    </tr>\n",
       "    <tr>\n",
       "      <th>3</th>\n",
       "      <td>49</td>\n",
       "      <td>72</td>\n",
       "      <td>5</td>\n",
       "    </tr>\n",
       "    <tr>\n",
       "      <th>4</th>\n",
       "      <td>69</td>\n",
       "      <td>76</td>\n",
       "      <td>50</td>\n",
       "    </tr>\n",
       "  </tbody>\n",
       "</table>\n",
       "</div>"
      ],
      "text/plain": [
       "    x   y   z\n",
       "0  68  33  43\n",
       "1  61  92  58\n",
       "2  53  43  57\n",
       "3  49  72   5\n",
       "4  69  76  50"
      ]
     },
     "execution_count": 38,
     "metadata": {},
     "output_type": "execute_result"
    }
   ],
   "source": [
    "# Add a z column\n",
    "df['z'] = pd.DataFrame({'x':np.random.randint(0, 100, 50)})\n",
    "df.head()"
   ]
  },
  {
   "cell_type": "code",
   "execution_count": 39,
   "metadata": {},
   "outputs": [
    {
     "data": {
      "image/png": "[encoded data removed]",
      "text/plain": [
       "<Figure size 432x288 with 1 Axes>"
      ]
     },
     "metadata": {
      "needs_background": "light"
     },
     "output_type": "display_data"
    }
   ],
   "source": [
    "# Graph 3-Dimensional Data \n",
    "from mpl_toolkits.mplot3d import Axes3D\n",
    "plt.figure().gca(projection='3d')\n",
    "plt.scatter(df['x'], df['y'], df['z'], color='r')\n",
    "plt.show()"
   ]
  },
  {
   "cell_type": "markdown",
   "metadata": {
    "colab_type": "text",
    "id": "NZmqdeygbHJx"
   },
   "source": [
    "### 7. Principal Component Analysis"
   ]
  },
  {
   "cell_type": "code",
   "execution_count": 40,
   "metadata": {},
   "outputs": [
    {
     "data": {
      "text/html": [
       "<div>\n",
       "<style scoped>\n",
       "    .dataframe tbody tr th:only-of-type {\n",
       "        vertical-align: middle;\n",
       "    }\n",
       "\n",
       "    .dataframe tbody tr th {\n",
       "        vertical-align: top;\n",
       "    }\n",
       "\n",
       "    .dataframe thead th {\n",
       "        text-align: right;\n",
       "    }\n",
       "</style>\n",
       "<table border=\"1\" class=\"dataframe\">\n",
       "  <thead>\n",
       "    <tr style=\"text-align: right;\">\n",
       "      <th></th>\n",
       "      <th>malignant</th>\n",
       "      <th>mean radius</th>\n",
       "      <th>mean texture</th>\n",
       "      <th>mean perimeter</th>\n",
       "      <th>mean area</th>\n",
       "      <th>mean smoothness</th>\n",
       "      <th>mean compactness</th>\n",
       "      <th>mean concavity</th>\n",
       "      <th>mean concave points</th>\n",
       "      <th>mean symmetry</th>\n",
       "      <th>...</th>\n",
       "      <th>worst radius</th>\n",
       "      <th>worst texture</th>\n",
       "      <th>worst perimeter</th>\n",
       "      <th>worst area</th>\n",
       "      <th>worst smoothness</th>\n",
       "      <th>worst compactness</th>\n",
       "      <th>worst concavity</th>\n",
       "      <th>worst concave points</th>\n",
       "      <th>worst symmetry</th>\n",
       "      <th>worst fractal dimension</th>\n",
       "    </tr>\n",
       "  </thead>\n",
       "  <tbody>\n",
       "    <tr>\n",
       "      <th>65</th>\n",
       "      <td>0</td>\n",
       "      <td>14.78</td>\n",
       "      <td>23.94</td>\n",
       "      <td>97.40</td>\n",
       "      <td>668.3</td>\n",
       "      <td>0.11720</td>\n",
       "      <td>0.14790</td>\n",
       "      <td>0.126700</td>\n",
       "      <td>0.090290</td>\n",
       "      <td>0.1953</td>\n",
       "      <td>...</td>\n",
       "      <td>17.31</td>\n",
       "      <td>33.39</td>\n",
       "      <td>114.60</td>\n",
       "      <td>925.1</td>\n",
       "      <td>0.1648</td>\n",
       "      <td>0.34160</td>\n",
       "      <td>0.30240</td>\n",
       "      <td>0.16140</td>\n",
       "      <td>0.3321</td>\n",
       "      <td>0.08911</td>\n",
       "    </tr>\n",
       "    <tr>\n",
       "      <th>475</th>\n",
       "      <td>1</td>\n",
       "      <td>12.83</td>\n",
       "      <td>15.73</td>\n",
       "      <td>82.89</td>\n",
       "      <td>506.9</td>\n",
       "      <td>0.09040</td>\n",
       "      <td>0.08269</td>\n",
       "      <td>0.058350</td>\n",
       "      <td>0.030780</td>\n",
       "      <td>0.1705</td>\n",
       "      <td>...</td>\n",
       "      <td>14.09</td>\n",
       "      <td>19.35</td>\n",
       "      <td>93.22</td>\n",
       "      <td>605.8</td>\n",
       "      <td>0.1326</td>\n",
       "      <td>0.26100</td>\n",
       "      <td>0.34760</td>\n",
       "      <td>0.09783</td>\n",
       "      <td>0.3006</td>\n",
       "      <td>0.07802</td>\n",
       "    </tr>\n",
       "    <tr>\n",
       "      <th>43</th>\n",
       "      <td>0</td>\n",
       "      <td>13.28</td>\n",
       "      <td>20.28</td>\n",
       "      <td>87.32</td>\n",
       "      <td>545.2</td>\n",
       "      <td>0.10410</td>\n",
       "      <td>0.14360</td>\n",
       "      <td>0.098470</td>\n",
       "      <td>0.061580</td>\n",
       "      <td>0.1974</td>\n",
       "      <td>...</td>\n",
       "      <td>17.38</td>\n",
       "      <td>28.00</td>\n",
       "      <td>113.10</td>\n",
       "      <td>907.2</td>\n",
       "      <td>0.1530</td>\n",
       "      <td>0.37240</td>\n",
       "      <td>0.36640</td>\n",
       "      <td>0.14920</td>\n",
       "      <td>0.3739</td>\n",
       "      <td>0.10270</td>\n",
       "    </tr>\n",
       "    <tr>\n",
       "      <th>332</th>\n",
       "      <td>1</td>\n",
       "      <td>11.22</td>\n",
       "      <td>19.86</td>\n",
       "      <td>71.94</td>\n",
       "      <td>387.3</td>\n",
       "      <td>0.10540</td>\n",
       "      <td>0.06779</td>\n",
       "      <td>0.005006</td>\n",
       "      <td>0.007583</td>\n",
       "      <td>0.1940</td>\n",
       "      <td>...</td>\n",
       "      <td>11.98</td>\n",
       "      <td>25.78</td>\n",
       "      <td>76.91</td>\n",
       "      <td>436.1</td>\n",
       "      <td>0.1424</td>\n",
       "      <td>0.09669</td>\n",
       "      <td>0.01335</td>\n",
       "      <td>0.02022</td>\n",
       "      <td>0.3292</td>\n",
       "      <td>0.06522</td>\n",
       "    </tr>\n",
       "    <tr>\n",
       "      <th>133</th>\n",
       "      <td>1</td>\n",
       "      <td>15.71</td>\n",
       "      <td>13.93</td>\n",
       "      <td>102.00</td>\n",
       "      <td>761.7</td>\n",
       "      <td>0.09462</td>\n",
       "      <td>0.09462</td>\n",
       "      <td>0.071350</td>\n",
       "      <td>0.059330</td>\n",
       "      <td>0.1816</td>\n",
       "      <td>...</td>\n",
       "      <td>17.50</td>\n",
       "      <td>19.25</td>\n",
       "      <td>114.30</td>\n",
       "      <td>922.8</td>\n",
       "      <td>0.1223</td>\n",
       "      <td>0.19490</td>\n",
       "      <td>0.17090</td>\n",
       "      <td>0.13740</td>\n",
       "      <td>0.2723</td>\n",
       "      <td>0.07071</td>\n",
       "    </tr>\n",
       "  </tbody>\n",
       "</table>\n",
       "<p>5 rows × 31 columns</p>\n",
       "</div>"
      ],
      "text/plain": [
       "     malignant  mean radius  mean texture  mean perimeter  mean area  \\\n",
       "65           0        14.78         23.94           97.40      668.3   \n",
       "475          1        12.83         15.73           82.89      506.9   \n",
       "43           0        13.28         20.28           87.32      545.2   \n",
       "332          1        11.22         19.86           71.94      387.3   \n",
       "133          1        15.71         13.93          102.00      761.7   \n",
       "\n",
       "     mean smoothness  mean compactness  mean concavity  mean concave points  \\\n",
       "65           0.11720           0.14790        0.126700             0.090290   \n",
       "475          0.09040           0.08269        0.058350             0.030780   \n",
       "43           0.10410           0.14360        0.098470             0.061580   \n",
       "332          0.10540           0.06779        0.005006             0.007583   \n",
       "133          0.09462           0.09462        0.071350             0.059330   \n",
       "\n",
       "     mean symmetry  ...  worst radius  worst texture  worst perimeter  \\\n",
       "65          0.1953  ...         17.31          33.39           114.60   \n",
       "475         0.1705  ...         14.09          19.35            93.22   \n",
       "43          0.1974  ...         17.38          28.00           113.10   \n",
       "332         0.1940  ...         11.98          25.78            76.91   \n",
       "133         0.1816  ...         17.50          19.25           114.30   \n",
       "\n",
       "     worst area  worst smoothness  worst compactness  worst concavity  \\\n",
       "65        925.1            0.1648            0.34160          0.30240   \n",
       "475       605.8            0.1326            0.26100          0.34760   \n",
       "43        907.2            0.1530            0.37240          0.36640   \n",
       "332       436.1            0.1424            0.09669          0.01335   \n",
       "133       922.8            0.1223            0.19490          0.17090   \n",
       "\n",
       "     worst concave points  worst symmetry  worst fractal dimension  \n",
       "65                0.16140          0.3321                  0.08911  \n",
       "475               0.09783          0.3006                  0.07802  \n",
       "43                0.14920          0.3739                  0.10270  \n",
       "332               0.02022          0.3292                  0.06522  \n",
       "133               0.13740          0.2723                  0.07071  \n",
       "\n",
       "[5 rows x 31 columns]"
      ]
     },
     "execution_count": 40,
     "metadata": {},
     "output_type": "execute_result"
    }
   ],
   "source": [
    "# load the Wisconsin Breast Cancer dataset\n",
    "url='https://raw.githubusercontent.com/austinlasseter/DS-Unit-1-Sprint-3-Linear-Algebra/master/module3-dimensionality-reduction/cancer.csv'\n",
    "cancer=pd.read_csv(url)\n",
    "cancer.sample(5)"
   ]
  },
  {
   "cell_type": "code",
   "execution_count": 41,
   "metadata": {},
   "outputs": [
    {
     "data": {
      "image/png": "[encoded data removed]",
      "text/plain": [
       "<Figure size 432x288 with 1 Axes>"
      ]
     },
     "metadata": {
      "needs_background": "light"
     },
     "output_type": "display_data"
    }
   ],
   "source": [
    "# Try to visualize a little bit of this dataset.\n",
    "# Purple=0, Yellow=1\n",
    "plt.scatter(cancer['mean radius'], cancer['mean texture'], c=cancer['malignant'])\n",
    "plt.xlabel('mean radius')\n",
    "plt.ylabel('mean texture');"
   ]
  },
  {
   "cell_type": "code",
   "execution_count": 42,
   "metadata": {},
   "outputs": [
    {
     "data": {
      "image/png": "[encoded data removed]",
      "text/plain": [
       "<Figure size 432x288 with 1 Axes>"
      ]
     },
     "metadata": {
      "needs_background": "light"
     },
     "output_type": "display_data"
    }
   ],
   "source": [
    "# Now in 3D\n",
    "from mpl_toolkits.mplot3d import Axes3D\n",
    "plt.figure().gca(projection='3d')\n",
    "plt.scatter(cancer['mean radius'], cancer['mean texture'], cancer['mean perimeter'], c=cancer['malignant'])\n",
    "plt.xlabel('mean radius')\n",
    "plt.ylabel('mean texture');"
   ]
  },
  {
   "cell_type": "code",
   "execution_count": 43,
   "metadata": {},
   "outputs": [
    {
     "data": {
      "text/plain": [
       "Index(['mean radius', 'mean texture', 'mean perimeter', 'mean area',\n",
       "       'mean smoothness'],\n",
       "      dtype='object')"
      ]
     },
     "execution_count": 43,
     "metadata": {},
     "output_type": "execute_result"
    }
   ],
   "source": [
    "# start by Standardizing the data since PCA's output is influenced based on the scale of the features of the data.\n",
    "from sklearn.preprocessing import StandardScaler\n",
    "feature_cols=cancer.columns[1:]\n",
    "feature_cols[:5]"
   ]
  },
  {
   "cell_type": "code",
   "execution_count": 44,
   "metadata": {},
   "outputs": [],
   "source": [
    "# normalizing the features\n",
    "x = cancer.loc[:, feature_cols].values\n",
    "x = StandardScaler().fit_transform(x) "
   ]
  },
  {
   "cell_type": "code",
   "execution_count": 45,
   "metadata": {},
   "outputs": [
    {
     "name": "stdout",
     "output_type": "stream",
     "text": [
      "-0.00\n",
      "1.0\n"
     ]
    }
   ],
   "source": [
    "# Let's check whether the normalized data has a mean of zero and a standard deviation of one.\n",
    "print('{:.2f}'.format(np.mean(x)))\n",
    "print(np.std(x))"
   ]
  },
  {
   "cell_type": "code",
   "execution_count": 46,
   "metadata": {},
   "outputs": [
    {
     "data": {
      "text/html": [
       "<div>\n",
       "<style scoped>\n",
       "    .dataframe tbody tr th:only-of-type {\n",
       "        vertical-align: middle;\n",
       "    }\n",
       "\n",
       "    .dataframe tbody tr th {\n",
       "        vertical-align: top;\n",
       "    }\n",
       "\n",
       "    .dataframe thead th {\n",
       "        text-align: right;\n",
       "    }\n",
       "</style>\n",
       "<table border=\"1\" class=\"dataframe\">\n",
       "  <thead>\n",
       "    <tr style=\"text-align: right;\">\n",
       "      <th></th>\n",
       "      <th>mean radius</th>\n",
       "      <th>mean texture</th>\n",
       "      <th>mean perimeter</th>\n",
       "      <th>mean area</th>\n",
       "      <th>mean smoothness</th>\n",
       "      <th>mean compactness</th>\n",
       "      <th>mean concavity</th>\n",
       "      <th>mean concave points</th>\n",
       "      <th>mean symmetry</th>\n",
       "      <th>mean fractal dimension</th>\n",
       "      <th>...</th>\n",
       "      <th>worst radius</th>\n",
       "      <th>worst texture</th>\n",
       "      <th>worst perimeter</th>\n",
       "      <th>worst area</th>\n",
       "      <th>worst smoothness</th>\n",
       "      <th>worst compactness</th>\n",
       "      <th>worst concavity</th>\n",
       "      <th>worst concave points</th>\n",
       "      <th>worst symmetry</th>\n",
       "      <th>worst fractal dimension</th>\n",
       "    </tr>\n",
       "  </thead>\n",
       "  <tbody>\n",
       "    <tr>\n",
       "      <th>0</th>\n",
       "      <td>1.097064</td>\n",
       "      <td>-2.073335</td>\n",
       "      <td>1.269934</td>\n",
       "      <td>0.984375</td>\n",
       "      <td>1.568466</td>\n",
       "      <td>3.283515</td>\n",
       "      <td>2.652874</td>\n",
       "      <td>2.532475</td>\n",
       "      <td>2.217515</td>\n",
       "      <td>2.255747</td>\n",
       "      <td>...</td>\n",
       "      <td>1.886690</td>\n",
       "      <td>-1.359293</td>\n",
       "      <td>2.303601</td>\n",
       "      <td>2.001237</td>\n",
       "      <td>1.307686</td>\n",
       "      <td>2.616665</td>\n",
       "      <td>2.109526</td>\n",
       "      <td>2.296076</td>\n",
       "      <td>2.750622</td>\n",
       "      <td>1.937015</td>\n",
       "    </tr>\n",
       "    <tr>\n",
       "      <th>1</th>\n",
       "      <td>1.829821</td>\n",
       "      <td>-0.353632</td>\n",
       "      <td>1.685955</td>\n",
       "      <td>1.908708</td>\n",
       "      <td>-0.826962</td>\n",
       "      <td>-0.487072</td>\n",
       "      <td>-0.023846</td>\n",
       "      <td>0.548144</td>\n",
       "      <td>0.001392</td>\n",
       "      <td>-0.868652</td>\n",
       "      <td>...</td>\n",
       "      <td>1.805927</td>\n",
       "      <td>-0.369203</td>\n",
       "      <td>1.535126</td>\n",
       "      <td>1.890489</td>\n",
       "      <td>-0.375612</td>\n",
       "      <td>-0.430444</td>\n",
       "      <td>-0.146749</td>\n",
       "      <td>1.087084</td>\n",
       "      <td>-0.243890</td>\n",
       "      <td>0.281190</td>\n",
       "    </tr>\n",
       "    <tr>\n",
       "      <th>2</th>\n",
       "      <td>1.579888</td>\n",
       "      <td>0.456187</td>\n",
       "      <td>1.566503</td>\n",
       "      <td>1.558884</td>\n",
       "      <td>0.942210</td>\n",
       "      <td>1.052926</td>\n",
       "      <td>1.363478</td>\n",
       "      <td>2.037231</td>\n",
       "      <td>0.939685</td>\n",
       "      <td>-0.398008</td>\n",
       "      <td>...</td>\n",
       "      <td>1.511870</td>\n",
       "      <td>-0.023974</td>\n",
       "      <td>1.347475</td>\n",
       "      <td>1.456285</td>\n",
       "      <td>0.527407</td>\n",
       "      <td>1.082932</td>\n",
       "      <td>0.854974</td>\n",
       "      <td>1.955000</td>\n",
       "      <td>1.152255</td>\n",
       "      <td>0.201391</td>\n",
       "    </tr>\n",
       "    <tr>\n",
       "      <th>3</th>\n",
       "      <td>-0.768909</td>\n",
       "      <td>0.253732</td>\n",
       "      <td>-0.592687</td>\n",
       "      <td>-0.764464</td>\n",
       "      <td>3.283553</td>\n",
       "      <td>3.402909</td>\n",
       "      <td>1.915897</td>\n",
       "      <td>1.451707</td>\n",
       "      <td>2.867383</td>\n",
       "      <td>4.910919</td>\n",
       "      <td>...</td>\n",
       "      <td>-0.281464</td>\n",
       "      <td>0.133984</td>\n",
       "      <td>-0.249939</td>\n",
       "      <td>-0.550021</td>\n",
       "      <td>3.394275</td>\n",
       "      <td>3.893397</td>\n",
       "      <td>1.989588</td>\n",
       "      <td>2.175786</td>\n",
       "      <td>6.046041</td>\n",
       "      <td>4.935010</td>\n",
       "    </tr>\n",
       "    <tr>\n",
       "      <th>4</th>\n",
       "      <td>1.750297</td>\n",
       "      <td>-1.151816</td>\n",
       "      <td>1.776573</td>\n",
       "      <td>1.826229</td>\n",
       "      <td>0.280372</td>\n",
       "      <td>0.539340</td>\n",
       "      <td>1.371011</td>\n",
       "      <td>1.428493</td>\n",
       "      <td>-0.009560</td>\n",
       "      <td>-0.562450</td>\n",
       "      <td>...</td>\n",
       "      <td>1.298575</td>\n",
       "      <td>-1.466770</td>\n",
       "      <td>1.338539</td>\n",
       "      <td>1.220724</td>\n",
       "      <td>0.220556</td>\n",
       "      <td>-0.313395</td>\n",
       "      <td>0.613179</td>\n",
       "      <td>0.729259</td>\n",
       "      <td>-0.868353</td>\n",
       "      <td>-0.397100</td>\n",
       "    </tr>\n",
       "  </tbody>\n",
       "</table>\n",
       "<p>5 rows × 30 columns</p>\n",
       "</div>"
      ],
      "text/plain": [
       "   mean radius  mean texture  mean perimeter  mean area  mean smoothness  \\\n",
       "0     1.097064     -2.073335        1.269934   0.984375         1.568466   \n",
       "1     1.829821     -0.353632        1.685955   1.908708        -0.826962   \n",
       "2     1.579888      0.456187        1.566503   1.558884         0.942210   \n",
       "3    -0.768909      0.253732       -0.592687  -0.764464         3.283553   \n",
       "4     1.750297     -1.151816        1.776573   1.826229         0.280372   \n",
       "\n",
       "   mean compactness  mean concavity  mean concave points  mean symmetry  \\\n",
       "0          3.283515        2.652874             2.532475       2.217515   \n",
       "1         -0.487072       -0.023846             0.548144       0.001392   \n",
       "2          1.052926        1.363478             2.037231       0.939685   \n",
       "3          3.402909        1.915897             1.451707       2.867383   \n",
       "4          0.539340        1.371011             1.428493      -0.009560   \n",
       "\n",
       "   mean fractal dimension  ...  worst radius  worst texture  worst perimeter  \\\n",
       "0                2.255747  ...      1.886690      -1.359293         2.303601   \n",
       "1               -0.868652  ...      1.805927      -0.369203         1.535126   \n",
       "2               -0.398008  ...      1.511870      -0.023974         1.347475   \n",
       "3                4.910919  ...     -0.281464       0.133984        -0.249939   \n",
       "4               -0.562450  ...      1.298575      -1.466770         1.338539   \n",
       "\n",
       "   worst area  worst smoothness  worst compactness  worst concavity  \\\n",
       "0    2.001237          1.307686           2.616665         2.109526   \n",
       "1    1.890489         -0.375612          -0.430444        -0.146749   \n",
       "2    1.456285          0.527407           1.082932         0.854974   \n",
       "3   -0.550021          3.394275           3.893397         1.989588   \n",
       "4    1.220724          0.220556          -0.313395         0.613179   \n",
       "\n",
       "   worst concave points  worst symmetry  worst fractal dimension  \n",
       "0              2.296076        2.750622                 1.937015  \n",
       "1              1.087084       -0.243890                 0.281190  \n",
       "2              1.955000        1.152255                 0.201391  \n",
       "3              2.175786        6.046041                 4.935010  \n",
       "4              0.729259       -0.868353                -0.397100  \n",
       "\n",
       "[5 rows x 30 columns]"
      ]
     },
     "execution_count": 46,
     "metadata": {},
     "output_type": "execute_result"
    }
   ],
   "source": [
    "# convert the normalized features into a dataframe\n",
    "normal_cancer = pd.DataFrame(x,columns=feature_cols)\n",
    "normal_cancer.head(5)"
   ]
  },
  {
   "cell_type": "code",
   "execution_count": 47,
   "metadata": {},
   "outputs": [],
   "source": [
    "# use the sklearn library to import the PCA module\n",
    "from sklearn.decomposition import PCA"
   ]
  },
  {
   "cell_type": "code",
   "execution_count": 48,
   "metadata": {},
   "outputs": [],
   "source": [
    "# instantiate the sklearn class\n",
    "# pass the desired number of components \n",
    "pca_cancer = PCA(n_components=2)"
   ]
  },
  {
   "cell_type": "code",
   "execution_count": 49,
   "metadata": {},
   "outputs": [],
   "source": [
    "# call fit_transform on the aggregate data\n",
    "pca_data = pca_cancer.fit_transform(x)"
   ]
  },
  {
   "cell_type": "code",
   "execution_count": 50,
   "metadata": {},
   "outputs": [
    {
     "data": {
      "text/html": [
       "<div>\n",
       "<style scoped>\n",
       "    .dataframe tbody tr th:only-of-type {\n",
       "        vertical-align: middle;\n",
       "    }\n",
       "\n",
       "    .dataframe tbody tr th {\n",
       "        vertical-align: top;\n",
       "    }\n",
       "\n",
       "    .dataframe thead th {\n",
       "        text-align: right;\n",
       "    }\n",
       "</style>\n",
       "<table border=\"1\" class=\"dataframe\">\n",
       "  <thead>\n",
       "    <tr style=\"text-align: right;\">\n",
       "      <th></th>\n",
       "      <th>comp_1</th>\n",
       "      <th>comp_2</th>\n",
       "    </tr>\n",
       "  </thead>\n",
       "  <tbody>\n",
       "    <tr>\n",
       "      <th>0</th>\n",
       "      <td>9.192837</td>\n",
       "      <td>1.948583</td>\n",
       "    </tr>\n",
       "    <tr>\n",
       "      <th>1</th>\n",
       "      <td>2.387802</td>\n",
       "      <td>-3.768172</td>\n",
       "    </tr>\n",
       "    <tr>\n",
       "      <th>2</th>\n",
       "      <td>5.733896</td>\n",
       "      <td>-1.075174</td>\n",
       "    </tr>\n",
       "    <tr>\n",
       "      <th>3</th>\n",
       "      <td>7.122953</td>\n",
       "      <td>10.275589</td>\n",
       "    </tr>\n",
       "    <tr>\n",
       "      <th>4</th>\n",
       "      <td>3.935302</td>\n",
       "      <td>-1.948072</td>\n",
       "    </tr>\n",
       "  </tbody>\n",
       "</table>\n",
       "</div>"
      ],
      "text/plain": [
       "     comp_1     comp_2\n",
       "0  9.192837   1.948583\n",
       "1  2.387802  -3.768172\n",
       "2  5.733896  -1.075174\n",
       "3  7.122953  10.275589\n",
       "4  3.935302  -1.948072"
      ]
     },
     "execution_count": 50,
     "metadata": {},
     "output_type": "execute_result"
    }
   ],
   "source": [
    "# create a DataFrame that will have \n",
    "# the principal component values for all 569 samples\n",
    "df_final = pd.DataFrame(data = pca_data, columns = ['comp_1', 'comp_2'])\n",
    "df_final.head()"
   ]
  },
  {
   "cell_type": "code",
   "execution_count": 51,
   "metadata": {},
   "outputs": [
    {
     "data": {
      "text/plain": [
       "array([0.44272026, 0.18971182])"
      ]
     },
     "execution_count": 51,
     "metadata": {},
     "output_type": "execute_result"
    }
   ],
   "source": [
    "#  how much variation did each principal component explain?\n",
    "pca_cancer.explained_variance_ratio_"
   ]
  },
  {
   "cell_type": "code",
   "execution_count": 52,
   "metadata": {},
   "outputs": [
    {
     "data": {
      "text/plain": [
       "0.632432076515594"
      ]
     },
     "execution_count": 52,
     "metadata": {},
     "output_type": "execute_result"
    }
   ],
   "source": [
    "# How much total variance did we explain?\n",
    "sum(pca_cancer.explained_variance_ratio_)"
   ]
  },
  {
   "cell_type": "code",
   "execution_count": 53,
   "metadata": {},
   "outputs": [
    {
     "data": {
      "text/plain": [
       "0.36756792348440603"
      ]
     },
     "execution_count": 53,
     "metadata": {},
     "output_type": "execute_result"
    }
   ],
   "source": [
    "# How much information did we lose?\n",
    "1-sum(pca_cancer.explained_variance_ratio_)"
   ]
  },
  {
   "cell_type": "code",
   "execution_count": 54,
   "metadata": {},
   "outputs": [
    {
     "data": {
      "text/html": [
       "<div>\n",
       "<style scoped>\n",
       "    .dataframe tbody tr th:only-of-type {\n",
       "        vertical-align: middle;\n",
       "    }\n",
       "\n",
       "    .dataframe tbody tr th {\n",
       "        vertical-align: top;\n",
       "    }\n",
       "\n",
       "    .dataframe thead th {\n",
       "        text-align: right;\n",
       "    }\n",
       "</style>\n",
       "<table border=\"1\" class=\"dataframe\">\n",
       "  <thead>\n",
       "    <tr style=\"text-align: right;\">\n",
       "      <th></th>\n",
       "      <th>comp_1</th>\n",
       "      <th>comp_2</th>\n",
       "      <th>malignant</th>\n",
       "    </tr>\n",
       "  </thead>\n",
       "  <tbody>\n",
       "    <tr>\n",
       "      <th>16</th>\n",
       "      <td>0.230055</td>\n",
       "      <td>-1.564758</td>\n",
       "      <td>0</td>\n",
       "    </tr>\n",
       "    <tr>\n",
       "      <th>459</th>\n",
       "      <td>-4.087077</td>\n",
       "      <td>-0.484710</td>\n",
       "      <td>1</td>\n",
       "    </tr>\n",
       "    <tr>\n",
       "      <th>356</th>\n",
       "      <td>0.357894</td>\n",
       "      <td>2.127839</td>\n",
       "      <td>1</td>\n",
       "    </tr>\n",
       "    <tr>\n",
       "      <th>358</th>\n",
       "      <td>-2.993233</td>\n",
       "      <td>1.631392</td>\n",
       "      <td>1</td>\n",
       "    </tr>\n",
       "    <tr>\n",
       "      <th>489</th>\n",
       "      <td>-0.741782</td>\n",
       "      <td>-2.452035</td>\n",
       "      <td>0</td>\n",
       "    </tr>\n",
       "  </tbody>\n",
       "</table>\n",
       "</div>"
      ],
      "text/plain": [
       "       comp_1    comp_2  malignant\n",
       "16   0.230055 -1.564758          0\n",
       "459 -4.087077 -0.484710          1\n",
       "356  0.357894  2.127839          1\n",
       "358 -2.993233  1.631392          1\n",
       "489 -0.741782 -2.452035          0"
      ]
     },
     "execution_count": 54,
     "metadata": {},
     "output_type": "execute_result"
    }
   ],
   "source": [
    "# add back in the type of tumor\n",
    "df_final['malignant']=cancer['malignant']\n",
    "df_final.sample(5)"
   ]
  },
  {
   "cell_type": "code",
   "execution_count": 55,
   "metadata": {},
   "outputs": [
    {
     "data": {
      "image/png": "[encoded data removed]",
      "text/plain": [
       "<Figure size 720x720 with 1 Axes>"
      ]
     },
     "metadata": {
      "needs_background": "light"
     },
     "output_type": "display_data"
    }
   ],
   "source": [
    "# plot the visualization of the data by the components\n",
    "plt.figure(figsize=(10,10))\n",
    "plt.xlabel('Component 1')\n",
    "plt.ylabel('Component 2')\n",
    "for k, c in [(0, 'indigo'), (1, 'gold')]:\n",
    "    subset=df_final[df_final['malignant']==k]    \n",
    "    plt.scatter(x=subset['comp_1'], \n",
    "                y=subset['comp_2'], \n",
    "                s=200,\n",
    "                alpha=.5,\n",
    "                color=c,\n",
    "                label=k);\n",
    "plt.legend();"
   ]
  },
  {
   "cell_type": "code",
   "execution_count": null,
   "metadata": {},
   "outputs": [],
   "source": []
  }
 ],
 "metadata": {
  "colab": {
   "collapsed_sections": [],
   "name": "LS_DS_133_High_Dimensional_Data_Assignment.ipynb",
   "provenance": []
  },
  "kernelspec": {
   "display_name": "Python 3",
   "language": "python",
   "name": "python3"
  },
  "language_info": {
   "codemirror_mode": {
    "name": "ipython",
    "version": 3
   },
   "file_extension": ".py",
   "mimetype": "text/x-python",
   "name": "python",
   "nbconvert_exporter": "python",
   "pygments_lexer": "ipython3",
   "version": "3.7.3"
  }
 },
 "nbformat": 4,
 "nbformat_minor": 1
}
